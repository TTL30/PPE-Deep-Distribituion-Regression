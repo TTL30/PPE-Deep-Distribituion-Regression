{
 "cells": [
  {
   "cell_type": "markdown",
   "metadata": {},
   "source": [
    "# PPE 31 - KYTH : Know Your worTH\n",
    "\n",
    "Authors : Hippolyte COUSIN - Sosthene DE LAMOTTE - Oscar MARZE - Paul SENARD - Camil TIRES - Tiago TEIXEIRA LOPES\n",
    "\n",
    "\n",
    "Nous avons étudié le fonctionnement des techniques récentes notamment celles proposées dans un article de recherche sur la  [Deep Distribution Regression](https://arxiv.org/pdf/1903.06023.pdf). Il nous a servi de guide pour nos expérimentations tout au long du projet.  Trois chercheurs Rui Li , Howard D. Bondell and Brian J. Reich y présentent leur solution pour le concours Global Energy Forecasting Competition  de 2014 (cette publication date du 14 mars 2019). Ils présentent aussi une solution afin d’obtenir une distribution conditionnelle complète qui contient des informations pouvant être cruciales. \n",
    "\n"
   ]
  },
  {
   "cell_type": "markdown",
   "metadata": {},
   "source": [
    "## Installation des Bibliothèques"
   ]
  },
  {
   "cell_type": "code",
   "execution_count": 1,
   "metadata": {},
   "outputs": [
    {
     "name": "stdout",
     "output_type": "stream",
     "text": [
      "ERROR: unknown command \"intall\" - maybe you meant \"install\"\n",
      "Note: you may need to restart the kernel to use updated packages.\n"
     ]
    }
   ],
   "source": [
    "pip intall numpy "
   ]
  },
  {
   "cell_type": "code",
   "execution_count": 2,
   "metadata": {
    "scrolled": false
   },
   "outputs": [
    {
     "name": "stdout",
     "output_type": "stream",
     "text": [
      "Requirement already satisfied: pandas in /home/tiago/anaconda3/envs/ppe/lib/python3.7/site-packages (1.2.0)\n",
      "Requirement already satisfied: python-dateutil>=2.7.3 in /home/tiago/anaconda3/envs/ppe/lib/python3.7/site-packages (from pandas) (2.8.1)\n",
      "Requirement already satisfied: pytz>=2017.3 in /home/tiago/anaconda3/envs/ppe/lib/python3.7/site-packages (from pandas) (2020.5)\n",
      "Requirement already satisfied: numpy>=1.16.5 in /home/tiago/anaconda3/envs/ppe/lib/python3.7/site-packages (from pandas) (1.19.2)\n",
      "Requirement already satisfied: six>=1.5 in /home/tiago/anaconda3/envs/ppe/lib/python3.7/site-packages (from python-dateutil>=2.7.3->pandas) (1.15.0)\n",
      "Note: you may need to restart the kernel to use updated packages.\n"
     ]
    }
   ],
   "source": [
    "pip install pandas"
   ]
  },
  {
   "cell_type": "code",
   "execution_count": 3,
   "metadata": {},
   "outputs": [
    {
     "name": "stdout",
     "output_type": "stream",
     "text": [
      "Requirement already satisfied: matplotlib in /home/tiago/anaconda3/envs/ppe/lib/python3.7/site-packages (3.3.4)\n",
      "Requirement already satisfied: kiwisolver>=1.0.1 in /home/tiago/anaconda3/envs/ppe/lib/python3.7/site-packages (from matplotlib) (1.3.0)\n",
      "Requirement already satisfied: pyparsing!=2.0.4,!=2.1.2,!=2.1.6,>=2.0.3 in /home/tiago/anaconda3/envs/ppe/lib/python3.7/site-packages (from matplotlib) (2.4.7)\n",
      "Requirement already satisfied: cycler>=0.10 in /home/tiago/anaconda3/envs/ppe/lib/python3.7/site-packages (from matplotlib) (0.10.0)\n",
      "Requirement already satisfied: numpy>=1.15 in /home/tiago/anaconda3/envs/ppe/lib/python3.7/site-packages (from matplotlib) (1.19.2)\n",
      "Requirement already satisfied: pillow>=6.2.0 in /home/tiago/anaconda3/envs/ppe/lib/python3.7/site-packages (from matplotlib) (8.1.0)\n",
      "Requirement already satisfied: python-dateutil>=2.1 in /home/tiago/anaconda3/envs/ppe/lib/python3.7/site-packages (from matplotlib) (2.8.1)\n",
      "Requirement already satisfied: six in /home/tiago/anaconda3/envs/ppe/lib/python3.7/site-packages (from cycler>=0.10->matplotlib) (1.15.0)\n",
      "Note: you may need to restart the kernel to use updated packages.\n"
     ]
    }
   ],
   "source": [
    "pip install matplotlib"
   ]
  },
  {
   "cell_type": "code",
   "execution_count": 4,
   "metadata": {},
   "outputs": [
    {
     "name": "stdout",
     "output_type": "stream",
     "text": [
      "Requirement already satisfied: keras in /home/tiago/anaconda3/envs/ppe/lib/python3.7/site-packages (2.4.3)\n",
      "Requirement already satisfied: scipy>=0.14 in /home/tiago/anaconda3/envs/ppe/lib/python3.7/site-packages (from keras) (1.6.1)\n",
      "Requirement already satisfied: h5py in /home/tiago/anaconda3/envs/ppe/lib/python3.7/site-packages (from keras) (2.10.0)\n",
      "Requirement already satisfied: numpy>=1.9.1 in /home/tiago/anaconda3/envs/ppe/lib/python3.7/site-packages (from keras) (1.19.2)\n",
      "Requirement already satisfied: pyyaml in /home/tiago/anaconda3/envs/ppe/lib/python3.7/site-packages (from keras) (5.4.1)\n",
      "Requirement already satisfied: six in /home/tiago/anaconda3/envs/ppe/lib/python3.7/site-packages (from h5py->keras) (1.15.0)\n",
      "Note: you may need to restart the kernel to use updated packages.\n"
     ]
    }
   ],
   "source": [
    "pip install keras"
   ]
  },
  {
   "cell_type": "code",
   "execution_count": 5,
   "metadata": {},
   "outputs": [
    {
     "name": "stdout",
     "output_type": "stream",
     "text": [
      "Requirement already satisfied: sklearn in /home/tiago/anaconda3/envs/ppe/lib/python3.7/site-packages (0.0)\n",
      "Requirement already satisfied: scikit-learn in /home/tiago/anaconda3/envs/ppe/lib/python3.7/site-packages (from sklearn) (0.21.3)\n",
      "Requirement already satisfied: scipy>=0.17.0 in /home/tiago/anaconda3/envs/ppe/lib/python3.7/site-packages (from scikit-learn->sklearn) (1.6.1)\n",
      "Requirement already satisfied: numpy>=1.11.0 in /home/tiago/anaconda3/envs/ppe/lib/python3.7/site-packages (from scikit-learn->sklearn) (1.19.2)\n",
      "Requirement already satisfied: joblib>=0.11 in /home/tiago/anaconda3/envs/ppe/lib/python3.7/site-packages (from scikit-learn->sklearn) (1.0.0)\n",
      "Note: you may need to restart the kernel to use updated packages.\n"
     ]
    }
   ],
   "source": [
    "pip install sklearn"
   ]
  },
  {
   "cell_type": "markdown",
   "metadata": {},
   "source": [
    "## Importation des Bibliothèques"
   ]
  },
  {
   "cell_type": "code",
   "execution_count": 6,
   "metadata": {},
   "outputs": [],
   "source": [
    "import pandas as pd\n",
    "import numpy as np\n",
    "import matplotlib.pyplot as plt\n",
    "import matplotlib.dates as mdate\n",
    "from collections import Counter\n",
    "\n",
    "import keras\n",
    "from keras.models import Sequential\n",
    "from keras.layers.core import Dense\n",
    "from keras.layers.core import Dropout"
   ]
  },
  {
   "cell_type": "markdown",
   "metadata": {},
   "source": [
    "# 1. Visualisation des données"
   ]
  },
  {
   "cell_type": "markdown",
   "metadata": {},
   "source": [
    "Les données avec lesquelles nous travaillons sont issues de la compétition Global Energy Forecasting 2014, dont l'un des thèmes était la production d'énergie solaire, à partir de données de trois fermes solaires en Australie. \n",
    "\n",
    "Nous avons utilisé exclusivement les données d'une ferme, située dans la 'zone 1'. \n",
    "\n",
    "Cette ferme renvoyait chaque jour les valeurs horaires pour 12 variables, que nous avons choisi de toutes utiliser pour entraîner notre modèle.\n",
    "En voici la liste :\n",
    "\n",
    "* VAR78 : Teneur en eau dans les nuages en kilogramme par m2\n",
    "* VAR79 : Teneur en eau dans les nuages en kilogramme par m2\n",
    "* VAR134 : Pression en surface en Pascal\n",
    "* VAR157 : Taux d'humidité relatif à 1000 millibar en %\n",
    "* VAR164 : Couverture nuageuse totale\n",
    "* VAR165 : Vitesse verticale du vent en mètre par seconde\n",
    "* VAR166 : Vitesse horizontale du vent en mètre par seconde\n",
    "* VAR167 : Température à 2 mètres de la surface en Kelvin\n",
    "* VAR169 : Rayonnement solaire de surface en Joule par m2\n",
    "* VAR175 : Rayonnement thermique en surface en Joule par m2\n",
    "* VAR178 : Rayonnement solaire net en Joule par m2\n",
    "* VAR228 : Précipitation totale en mètre"
   ]
  },
  {
   "cell_type": "code",
   "execution_count": 7,
   "metadata": {},
   "outputs": [],
   "source": [
    "df = pd.read_csv(\"predictors15.csv\")"
   ]
  },
  {
   "cell_type": "code",
   "execution_count": 8,
   "metadata": {},
   "outputs": [
    {
     "name": "stdout",
     "output_type": "stream",
     "text": [
      "<class 'pandas.core.frame.DataFrame'>\n",
      "RangeIndex: 59112 entries, 0 to 59111\n",
      "Data columns (total 15 columns):\n",
      " #   Column     Non-Null Count  Dtype  \n",
      "---  ------     --------------  -----  \n",
      " 0   ZONEID     59112 non-null  int64  \n",
      " 1   TIMESTAMP  59112 non-null  object \n",
      " 2   VAR78      59112 non-null  float64\n",
      " 3   VAR79      59112 non-null  float64\n",
      " 4   VAR134     59112 non-null  float64\n",
      " 5   VAR157     59112 non-null  float64\n",
      " 6   VAR164     59112 non-null  float64\n",
      " 7   VAR165     59112 non-null  float64\n",
      " 8   VAR166     59112 non-null  float64\n",
      " 9   VAR167     59112 non-null  float64\n",
      " 10  VAR169     59112 non-null  float64\n",
      " 11  VAR175     59112 non-null  float64\n",
      " 12  VAR178     59112 non-null  float64\n",
      " 13  VAR228     59112 non-null  float64\n",
      " 14  POWER      59112 non-null  float64\n",
      "dtypes: float64(13), int64(1), object(1)\n",
      "memory usage: 6.8+ MB\n",
      "----------------------------------------------------------------------------------------------------\n",
      "             ZONEID         VAR78         VAR79        VAR134        VAR157  \\\n",
      "count  59112.000000  59112.000000  59112.000000  59112.000000  59112.000000   \n",
      "mean       2.000000      0.041899      0.016586  93810.494829     68.094098   \n",
      "std        0.816503      0.122218      0.050877   1110.801611     20.268233   \n",
      "min        1.000000      0.000000      0.000000  90345.875000      6.348233   \n",
      "25%        1.000000      0.000000      0.000000  92904.671875     52.996803   \n",
      "50%        2.000000      0.003159      0.000127  94011.093750     71.272995   \n",
      "75%        3.000000      0.034485      0.007374  94676.125000     85.338207   \n",
      "max        3.000000      4.103422      0.820470  96317.125000    102.838364   \n",
      "\n",
      "             VAR164        VAR165        VAR166        VAR167        VAR169  \\\n",
      "count  59112.000000  59112.000000  59112.000000  59112.000000  5.911200e+04   \n",
      "mean       0.442297      0.771363     -0.266127    285.239371  1.226033e+07   \n",
      "std        0.400495      2.457004      1.997156      7.018864  6.610766e+06   \n",
      "min        0.000000     -8.908603     -8.404230    269.436279  1.147127e+05   \n",
      "25%        0.014224     -0.739636     -1.608943    279.939514  7.318222e+06   \n",
      "50%        0.367180      0.386829     -0.420534    284.494629  1.103479e+07   \n",
      "75%        0.892060      2.166183      0.950577    289.752991  1.718342e+07   \n",
      "max        1.000008     13.056718     10.710998    310.458496  3.462558e+07   \n",
      "\n",
      "             VAR175        VAR178        VAR228         POWER  \n",
      "count  5.911200e+04  5.911200e+04  59112.000000  59112.000000  \n",
      "mean   1.380132e+07  1.435861e+07      0.001013      0.183711  \n",
      "std    7.743237e+06  7.064918e+06      0.003435      0.272524  \n",
      "min    8.216176e+05  6.465230e+05      0.000000      0.000000  \n",
      "25%    7.258113e+06  9.236506e+06      0.000000      0.000000  \n",
      "50%    1.366837e+07  1.311384e+07      0.000000      0.002525  \n",
      "75%    1.999846e+07  1.976043e+07      0.000263      0.322379  \n",
      "max    3.467366e+07  3.772200e+07      0.055961      1.003550  \n",
      "----------------------------------------------------------------------------------------------------\n",
      "shape :  (59112, 15)\n"
     ]
    }
   ],
   "source": [
    "df.info()\n",
    "print(100*'-')\n",
    "print(df.describe())\n",
    "print(100*'-')\n",
    "print(\"shape : \", df.shape)"
   ]
  },
  {
   "cell_type": "markdown",
   "metadata": {},
   "source": [
    "# 2. Data processing"
   ]
  },
  {
   "cell_type": "code",
   "execution_count": 9,
   "metadata": {},
   "outputs": [],
   "source": [
    "df = df[df[\"POWER\"] <= 1]"
   ]
  },
  {
   "cell_type": "markdown",
   "metadata": {},
   "source": [
    "### A. Transformation de la date"
   ]
  },
  {
   "cell_type": "markdown",
   "metadata": {},
   "source": [
    "On effectue une transformation de cosinus et sinus sur la date à l'aide de la fonction suivante afin de les rendre cycliques, car la puissance solaire dépend fortement des saisons."
   ]
  },
  {
   "cell_type": "code",
   "execution_count": 10,
   "metadata": {},
   "outputs": [],
   "source": [
    "def encode(data, col, max_val):\n",
    "    data[col + '_sin'] = np.sin(2 * np.pi * data[col]/max_val)\n",
    "    data[col + '_cos'] = np.cos(2 * np.pi * data[col]/max_val)\n",
    "    return data"
   ]
  },
  {
   "cell_type": "code",
   "execution_count": 11,
   "metadata": {},
   "outputs": [],
   "source": [
    "df[\"TIMESTAMP\"] = pd.to_datetime(df[\"TIMESTAMP\"])\n",
    "df[\"TIMESTAMP_year\"] = df[\"TIMESTAMP\"].dt.year\n",
    "\n",
    "df['month'] = df[\"TIMESTAMP\"].dt.month\n",
    "df = encode(df, 'month', 12)\n",
    "\n",
    "df['day'] = df[\"TIMESTAMP\"].dt.day\n",
    "df = encode(df, 'day', 365)\n",
    "\n",
    "df['hour'] = df[\"TIMESTAMP\"].dt.hour\n",
    "df = encode(df, 'hour', 23.0)"
   ]
  },
  {
   "cell_type": "markdown",
   "metadata": {},
   "source": [
    "#### Avant la transformation : "
   ]
  },
  {
   "cell_type": "code",
   "execution_count": 12,
   "metadata": {},
   "outputs": [
    {
     "data": {
      "image/png": "[encoded data removed]",
      "text/plain": [
       "<Figure size 432x288 with 1 Axes>"
      ]
     },
     "metadata": {
      "needs_background": "light"
     },
     "output_type": "display_data"
    }
   ],
   "source": [
    "tmp = df[0:168]\n",
    "tmp['hour'].plot()\n",
    "plt.ylabel(\"Hour\")\n",
    "plt.xlabel(\"Days\")\n",
    "plt.show()"
   ]
  },
  {
   "cell_type": "markdown",
   "metadata": {},
   "source": [
    "#### Après la transformation : "
   ]
  },
  {
   "cell_type": "code",
   "execution_count": 13,
   "metadata": {},
   "outputs": [
    {
     "data": {
      "image/png": "[encoded data removed]",
      "text/plain": [
       "<Figure size 432x288 with 1 Axes>"
      ]
     },
     "metadata": {
      "needs_background": "light"
     },
     "output_type": "display_data"
    }
   ],
   "source": [
    "tmp['hour_sin'].plot()\n",
    "plt.ylabel(\"Hour\")\n",
    "plt.xlabel(\"Days\")\n",
    "plt.show()"
   ]
  },
  {
   "cell_type": "code",
   "execution_count": 14,
   "metadata": {},
   "outputs": [
    {
     "data": {
      "image/png": "[encoded data removed]",
      "text/plain": [
       "<Figure size 432x288 with 1 Axes>"
      ]
     },
     "metadata": {
      "needs_background": "light"
     },
     "output_type": "display_data"
    }
   ],
   "source": [
    "ex = tmp.plot.scatter('hour_sin', 'hour_cos').set_aspect('equal')"
   ]
  },
  {
   "cell_type": "markdown",
   "metadata": {},
   "source": [
    "### B. Visualisation de l'allure de notre cible"
   ]
  },
  {
   "cell_type": "markdown",
   "metadata": {},
   "source": [
    "On visualise l'évolution de l'énergie solaire pendant 4 jours du mois de Mars 2014."
   ]
  },
  {
   "cell_type": "code",
   "execution_count": 15,
   "metadata": {},
   "outputs": [
    {
     "data": {
      "image/png": "[encoded data removed]",
      "text/plain": [
       "<Figure size 432x288 with 1 Axes>"
      ]
     },
     "metadata": {
      "needs_background": "light"
     },
     "output_type": "display_data"
    }
   ],
   "source": [
    "march = df.loc[df['TIMESTAMP_year'] == 2014]\n",
    "march = march.loc[march['month'] == 3]\n",
    "march = march.loc[march['ZONEID'] == 1][178:278]\n",
    "\n",
    "time_march = march[\"TIMESTAMP\"]\n",
    "power_march = march[\"POWER\"]\n",
    "\n",
    "fig, _ = plt.subplots()\n",
    "plt.plot(time_march,power_march)\n",
    "plt.gca().xaxis.set_major_locator(mdate.DayLocator())\n",
    "fig.autofmt_xdate()\n",
    "plt.show()"
   ]
  },
  {
   "cell_type": "markdown",
   "metadata": {},
   "source": [
    "### C. Selection de données"
   ]
  },
  {
   "cell_type": "markdown",
   "metadata": {},
   "source": [
    "On sélectionne dans notre large jeu de données l'année 2013 ainsi que les données concernant la ferme 1. Cette première sélection va correspondre à notre jeu d'entraînement, puis on va établir notre jeu de test sur le mois de Janvier 2014. De plus on mélange notre dataset afin de ne pas biaiser nos résultats."
   ]
  },
  {
   "cell_type": "code",
   "execution_count": 16,
   "metadata": {},
   "outputs": [],
   "source": [
    "df_2013 = df.loc[df['TIMESTAMP_year'] == 2013]\n",
    "df_2013_z1 = df_2013.loc[df_2013['ZONEID'] == 1]\n",
    "df_2013_z1_shuffled = df_2013_z1.sample(frac=1)"
   ]
  },
  {
   "cell_type": "code",
   "execution_count": 17,
   "metadata": {},
   "outputs": [
    {
     "data": {
      "text/plain": [
       "(8760, 25)"
      ]
     },
     "execution_count": 17,
     "metadata": {},
     "output_type": "execute_result"
    }
   ],
   "source": [
    "df_2013_z1.shape"
   ]
  },
  {
   "cell_type": "code",
   "execution_count": 18,
   "metadata": {},
   "outputs": [],
   "source": [
    "df_test = df.loc[df['TIMESTAMP_year'] == 2014]\n",
    "df_test = df_test.loc[df_test[\"ZONEID\"] == 1][:744]\n",
    "df_test_shuffled = df_test.sample(frac=1)"
   ]
  },
  {
   "cell_type": "code",
   "execution_count": 19,
   "metadata": {},
   "outputs": [
    {
     "data": {
      "text/html": [
       "<div>\n",
       "<style scoped>\n",
       "    .dataframe tbody tr th:only-of-type {\n",
       "        vertical-align: middle;\n",
       "    }\n",
       "\n",
       "    .dataframe tbody tr th {\n",
       "        vertical-align: top;\n",
       "    }\n",
       "\n",
       "    .dataframe thead th {\n",
       "        text-align: right;\n",
       "    }\n",
       "</style>\n",
       "<table border=\"1\" class=\"dataframe\">\n",
       "  <thead>\n",
       "    <tr style=\"text-align: right;\">\n",
       "      <th></th>\n",
       "      <th>ZONEID</th>\n",
       "      <th>TIMESTAMP</th>\n",
       "      <th>VAR78</th>\n",
       "      <th>VAR79</th>\n",
       "      <th>VAR134</th>\n",
       "      <th>VAR157</th>\n",
       "      <th>VAR164</th>\n",
       "      <th>VAR165</th>\n",
       "      <th>VAR166</th>\n",
       "      <th>VAR167</th>\n",
       "      <th>...</th>\n",
       "      <th>TIMESTAMP_year</th>\n",
       "      <th>month</th>\n",
       "      <th>month_sin</th>\n",
       "      <th>month_cos</th>\n",
       "      <th>day</th>\n",
       "      <th>day_sin</th>\n",
       "      <th>day_cos</th>\n",
       "      <th>hour</th>\n",
       "      <th>hour_sin</th>\n",
       "      <th>hour_cos</th>\n",
       "    </tr>\n",
       "  </thead>\n",
       "  <tbody>\n",
       "    <tr>\n",
       "      <th>10080</th>\n",
       "      <td>1</td>\n",
       "      <td>2013-05-26 01:00:00</td>\n",
       "      <td>0.000269</td>\n",
       "      <td>0.000000</td>\n",
       "      <td>95509.8750</td>\n",
       "      <td>73.670883</td>\n",
       "      <td>0.003357</td>\n",
       "      <td>0.880408</td>\n",
       "      <td>-1.313563</td>\n",
       "      <td>281.783691</td>\n",
       "      <td>...</td>\n",
       "      <td>2013</td>\n",
       "      <td>5</td>\n",
       "      <td>0.5</td>\n",
       "      <td>-8.660254e-01</td>\n",
       "      <td>26</td>\n",
       "      <td>0.432776</td>\n",
       "      <td>0.901502</td>\n",
       "      <td>1</td>\n",
       "      <td>0.269797</td>\n",
       "      <td>0.962917</td>\n",
       "    </tr>\n",
       "    <tr>\n",
       "      <th>9792</th>\n",
       "      <td>1</td>\n",
       "      <td>2013-05-14 01:00:00</td>\n",
       "      <td>0.000397</td>\n",
       "      <td>0.000000</td>\n",
       "      <td>94333.8750</td>\n",
       "      <td>59.226471</td>\n",
       "      <td>0.018616</td>\n",
       "      <td>3.695747</td>\n",
       "      <td>-1.695083</td>\n",
       "      <td>283.197754</td>\n",
       "      <td>...</td>\n",
       "      <td>2013</td>\n",
       "      <td>5</td>\n",
       "      <td>0.5</td>\n",
       "      <td>-8.660254e-01</td>\n",
       "      <td>14</td>\n",
       "      <td>0.238673</td>\n",
       "      <td>0.971100</td>\n",
       "      <td>1</td>\n",
       "      <td>0.269797</td>\n",
       "      <td>0.962917</td>\n",
       "    </tr>\n",
       "    <tr>\n",
       "      <th>13105</th>\n",
       "      <td>1</td>\n",
       "      <td>2013-09-29 02:00:00</td>\n",
       "      <td>0.000000</td>\n",
       "      <td>0.000115</td>\n",
       "      <td>94560.5625</td>\n",
       "      <td>41.457031</td>\n",
       "      <td>0.107376</td>\n",
       "      <td>4.276614</td>\n",
       "      <td>-1.685981</td>\n",
       "      <td>289.672363</td>\n",
       "      <td>...</td>\n",
       "      <td>2013</td>\n",
       "      <td>9</td>\n",
       "      <td>-1.0</td>\n",
       "      <td>-1.836970e-16</td>\n",
       "      <td>29</td>\n",
       "      <td>0.478734</td>\n",
       "      <td>0.877960</td>\n",
       "      <td>2</td>\n",
       "      <td>0.519584</td>\n",
       "      <td>0.854419</td>\n",
       "    </tr>\n",
       "    <tr>\n",
       "      <th>7044</th>\n",
       "      <td>1</td>\n",
       "      <td>2013-01-19 13:00:00</td>\n",
       "      <td>0.075386</td>\n",
       "      <td>0.000029</td>\n",
       "      <td>94675.1250</td>\n",
       "      <td>77.323059</td>\n",
       "      <td>0.832184</td>\n",
       "      <td>-4.048058</td>\n",
       "      <td>0.884130</td>\n",
       "      <td>288.686523</td>\n",
       "      <td>...</td>\n",
       "      <td>2013</td>\n",
       "      <td>1</td>\n",
       "      <td>0.5</td>\n",
       "      <td>8.660254e-01</td>\n",
       "      <td>19</td>\n",
       "      <td>0.321270</td>\n",
       "      <td>0.946988</td>\n",
       "      <td>13</td>\n",
       "      <td>-0.398401</td>\n",
       "      <td>-0.917211</td>\n",
       "    </tr>\n",
       "    <tr>\n",
       "      <th>8693</th>\n",
       "      <td>1</td>\n",
       "      <td>2013-03-29 06:00:00</td>\n",
       "      <td>0.000000</td>\n",
       "      <td>0.000000</td>\n",
       "      <td>94641.4375</td>\n",
       "      <td>33.168457</td>\n",
       "      <td>0.000000</td>\n",
       "      <td>0.127497</td>\n",
       "      <td>-0.781517</td>\n",
       "      <td>291.905762</td>\n",
       "      <td>...</td>\n",
       "      <td>2013</td>\n",
       "      <td>3</td>\n",
       "      <td>1.0</td>\n",
       "      <td>6.123234e-17</td>\n",
       "      <td>29</td>\n",
       "      <td>0.478734</td>\n",
       "      <td>0.877960</td>\n",
       "      <td>6</td>\n",
       "      <td>0.997669</td>\n",
       "      <td>-0.068242</td>\n",
       "    </tr>\n",
       "  </tbody>\n",
       "</table>\n",
       "<p>5 rows × 25 columns</p>\n",
       "</div>"
      ],
      "text/plain": [
       "       ZONEID           TIMESTAMP     VAR78     VAR79      VAR134     VAR157  \\\n",
       "10080       1 2013-05-26 01:00:00  0.000269  0.000000  95509.8750  73.670883   \n",
       "9792        1 2013-05-14 01:00:00  0.000397  0.000000  94333.8750  59.226471   \n",
       "13105       1 2013-09-29 02:00:00  0.000000  0.000115  94560.5625  41.457031   \n",
       "7044        1 2013-01-19 13:00:00  0.075386  0.000029  94675.1250  77.323059   \n",
       "8693        1 2013-03-29 06:00:00  0.000000  0.000000  94641.4375  33.168457   \n",
       "\n",
       "         VAR164    VAR165    VAR166      VAR167  ...  TIMESTAMP_year  month  \\\n",
       "10080  0.003357  0.880408 -1.313563  281.783691  ...            2013      5   \n",
       "9792   0.018616  3.695747 -1.695083  283.197754  ...            2013      5   \n",
       "13105  0.107376  4.276614 -1.685981  289.672363  ...            2013      9   \n",
       "7044   0.832184 -4.048058  0.884130  288.686523  ...            2013      1   \n",
       "8693   0.000000  0.127497 -0.781517  291.905762  ...            2013      3   \n",
       "\n",
       "       month_sin     month_cos  day   day_sin   day_cos  hour  hour_sin  \\\n",
       "10080        0.5 -8.660254e-01   26  0.432776  0.901502     1  0.269797   \n",
       "9792         0.5 -8.660254e-01   14  0.238673  0.971100     1  0.269797   \n",
       "13105       -1.0 -1.836970e-16   29  0.478734  0.877960     2  0.519584   \n",
       "7044         0.5  8.660254e-01   19  0.321270  0.946988    13 -0.398401   \n",
       "8693         1.0  6.123234e-17   29  0.478734  0.877960     6  0.997669   \n",
       "\n",
       "       hour_cos  \n",
       "10080  0.962917  \n",
       "9792   0.962917  \n",
       "13105  0.854419  \n",
       "7044  -0.917211  \n",
       "8693  -0.068242  \n",
       "\n",
       "[5 rows x 25 columns]"
      ]
     },
     "execution_count": 19,
     "metadata": {},
     "output_type": "execute_result"
    }
   ],
   "source": [
    "df_2013_z1_shuffled.head()"
   ]
  },
  {
   "cell_type": "markdown",
   "metadata": {},
   "source": [
    "### D. Undersampling"
   ]
  },
  {
   "cell_type": "markdown",
   "metadata": {},
   "source": [
    "Dans un premier temps, on étudie la fréquence de valeurs nulles à chaque heure durant l'année 2013."
   ]
  },
  {
   "cell_type": "code",
   "execution_count": 20,
   "metadata": {},
   "outputs": [],
   "source": [
    "tmp = df_2013_z1_shuffled[df_2013_z1_shuffled[\"POWER\"].eq(0)]"
   ]
  },
  {
   "cell_type": "code",
   "execution_count": 21,
   "metadata": {},
   "outputs": [
    {
     "name": "stdout",
     "output_type": "stream",
     "text": [
      "Class=13, n=365 (9.583%)\n",
      "Class=18, n=365 (9.583%)\n",
      "Class=14, n=365 (9.583%)\n",
      "Class=20, n=167 (4.384%)\n",
      "Class=17, n=365 (9.583%)\n",
      "Class=16, n=365 (9.583%)\n",
      "Class=10, n=266 (6.983%)\n",
      "Class=12, n=365 (9.583%)\n",
      "Class=11, n=365 (9.583%)\n",
      "Class=15, n=365 (9.583%)\n",
      "Class=19, n=274 (7.193%)\n",
      "Class=9, n=161 (4.227%)\n",
      "Class=21, n=18 (0.473%)\n",
      "Class=8, n=2 (0.053%)\n",
      "Class=3, n=1 (0.026%)\n"
     ]
    },
    {
     "data": {
      "image/png": "[encoded data removed]",
      "text/plain": [
       "<Figure size 432x288 with 1 Axes>"
      ]
     },
     "metadata": {
      "needs_background": "light"
     },
     "output_type": "display_data"
    }
   ],
   "source": [
    "counter = Counter(tmp[\"hour\"])\n",
    "for k,v in counter.items():\n",
    "    per = v / len(tmp[\"hour\"]) * 100\n",
    "    print('Class=%d, n=%d (%.3f%%)' % (k, v, per))\n",
    "plt.bar(counter.keys(), counter.values())\n",
    "plt.xlabel(\"Heure\")\n",
    "plt.ylabel(\"Fréquence\")\n",
    "plt.show()"
   ]
  },
  {
   "cell_type": "markdown",
   "metadata": {},
   "source": [
    "On remarque qu'à partir de 11h et ce jusqu'à 18h notre cible est nulle tout au long de l'année. On va donc procéder à un sous-échantillonage afin de réequilibrer notre dataset."
   ]
  },
  {
   "cell_type": "code",
   "execution_count": 22,
   "metadata": {},
   "outputs": [],
   "source": [
    "counter = Counter(tmp[\"hour\"])\n",
    "for k,v in counter.items():\n",
    "    if(v > 100):\n",
    "        df_tp = tmp[tmp[\"hour\"].eq(k)].index\n",
    "        drop_indices = np.random.choice(df_tp,v-100, replace=False )\n",
    "        df_2013_z1_shuffled = df_2013_z1_shuffled.drop(drop_indices)"
   ]
  },
  {
   "cell_type": "code",
   "execution_count": 23,
   "metadata": {},
   "outputs": [],
   "source": [
    "tmp = df_2013_z1_shuffled[df_2013_z1_shuffled[\"POWER\"].eq(0)]"
   ]
  },
  {
   "cell_type": "code",
   "execution_count": 24,
   "metadata": {},
   "outputs": [
    {
     "name": "stdout",
     "output_type": "stream",
     "text": [
      "Class=13, n=100 (8.190%)\n",
      "Class=20, n=100 (8.190%)\n",
      "Class=17, n=100 (8.190%)\n",
      "Class=16, n=100 (8.190%)\n",
      "Class=10, n=100 (8.190%)\n",
      "Class=12, n=100 (8.190%)\n",
      "Class=18, n=100 (8.190%)\n",
      "Class=11, n=100 (8.190%)\n",
      "Class=14, n=100 (8.190%)\n",
      "Class=19, n=100 (8.190%)\n",
      "Class=21, n=18 (1.474%)\n",
      "Class=9, n=100 (8.190%)\n",
      "Class=15, n=100 (8.190%)\n",
      "Class=8, n=2 (0.164%)\n",
      "Class=3, n=1 (0.082%)\n"
     ]
    },
    {
     "data": {
      "image/png": "[encoded data removed]",
      "text/plain": [
       "<Figure size 432x288 with 1 Axes>"
      ]
     },
     "metadata": {
      "needs_background": "light"
     },
     "output_type": "display_data"
    }
   ],
   "source": [
    "counter = Counter(tmp[\"hour\"])\n",
    "for k,v in counter.items():\n",
    "    per = v / len(tmp[\"hour\"]) * 100\n",
    "    print('Class=%d, n=%d (%.3f%%)' % (k, v, per))\n",
    "plt.bar(counter.keys(), counter.values())\n",
    "plt.xlabel(\"Heure\")\n",
    "plt.ylabel(\"Fréquence\")\n",
    "plt.show()"
   ]
  },
  {
   "cell_type": "markdown",
   "metadata": {},
   "source": [
    "Pour réaliser ce sous-échantillonage, on réduit le nombre données des heures oû l'on obtient plus de 100 jours nulle sur l'année."
   ]
  },
  {
   "cell_type": "markdown",
   "metadata": {},
   "source": [
    "### E. Elimintation de features et visualisation du jeu d'entraînement et du jeu de test"
   ]
  },
  {
   "cell_type": "code",
   "execution_count": 25,
   "metadata": {},
   "outputs": [
    {
     "name": "stdout",
     "output_type": "stream",
     "text": [
      "Train size :  (6172, 19)\n",
      "Train size :  (6172,)\n",
      "Test size :  (744, 19)\n",
      "Test size :  (744,)\n"
     ]
    }
   ],
   "source": [
    "col = [\"ZONEID\",\"TIMESTAMP\", \"TIMESTAMP_year\", \"month\", \"day\"]\n",
    "\n",
    "X_train = df_2013_z1_shuffled.drop(\"POWER\", axis=1)\n",
    "X_train = X_train.drop(col, axis=1)\n",
    "y_train = df_2013_z1_shuffled[\"POWER\"]\n",
    "\n",
    "X_test = df_test_shuffled.drop(\"POWER\", axis=1)\n",
    "X_test = X_test.drop(col, axis=1)\n",
    "y_test = df_test_shuffled[\"POWER\"]\n",
    "\n",
    "print(\"Train size : \", X_train.shape)\n",
    "print(\"Train size : \", y_train.shape)\n",
    "print(\"Test size : \", X_test.shape)\n",
    "print(\"Test size : \", y_test.shape)"
   ]
  },
  {
   "cell_type": "code",
   "execution_count": 26,
   "metadata": {},
   "outputs": [
    {
     "data": {
      "text/html": [
       "<div>\n",
       "<style scoped>\n",
       "    .dataframe tbody tr th:only-of-type {\n",
       "        vertical-align: middle;\n",
       "    }\n",
       "\n",
       "    .dataframe tbody tr th {\n",
       "        vertical-align: top;\n",
       "    }\n",
       "\n",
       "    .dataframe thead th {\n",
       "        text-align: right;\n",
       "    }\n",
       "</style>\n",
       "<table border=\"1\" class=\"dataframe\">\n",
       "  <thead>\n",
       "    <tr style=\"text-align: right;\">\n",
       "      <th></th>\n",
       "      <th>VAR78</th>\n",
       "      <th>VAR79</th>\n",
       "      <th>VAR134</th>\n",
       "      <th>VAR157</th>\n",
       "      <th>VAR164</th>\n",
       "      <th>VAR165</th>\n",
       "      <th>VAR166</th>\n",
       "      <th>VAR167</th>\n",
       "      <th>VAR169</th>\n",
       "      <th>VAR175</th>\n",
       "      <th>VAR178</th>\n",
       "      <th>VAR228</th>\n",
       "      <th>month_sin</th>\n",
       "      <th>month_cos</th>\n",
       "      <th>day_sin</th>\n",
       "      <th>day_cos</th>\n",
       "      <th>hour</th>\n",
       "      <th>hour_sin</th>\n",
       "      <th>hour_cos</th>\n",
       "    </tr>\n",
       "  </thead>\n",
       "  <tbody>\n",
       "    <tr>\n",
       "      <th>10080</th>\n",
       "      <td>0.000269</td>\n",
       "      <td>0.000000</td>\n",
       "      <td>95509.8750</td>\n",
       "      <td>73.670883</td>\n",
       "      <td>0.003357</td>\n",
       "      <td>0.880408</td>\n",
       "      <td>-1.313563</td>\n",
       "      <td>281.783691</td>\n",
       "      <td>1506249.0</td>\n",
       "      <td>1.049106e+06</td>\n",
       "      <td>1708261.0</td>\n",
       "      <td>0.0</td>\n",
       "      <td>0.5</td>\n",
       "      <td>-8.660254e-01</td>\n",
       "      <td>0.432776</td>\n",
       "      <td>0.901502</td>\n",
       "      <td>1</td>\n",
       "      <td>0.269797</td>\n",
       "      <td>0.962917</td>\n",
       "    </tr>\n",
       "    <tr>\n",
       "      <th>9792</th>\n",
       "      <td>0.000397</td>\n",
       "      <td>0.000000</td>\n",
       "      <td>94333.8750</td>\n",
       "      <td>59.226471</td>\n",
       "      <td>0.018616</td>\n",
       "      <td>3.695747</td>\n",
       "      <td>-1.695083</td>\n",
       "      <td>283.197754</td>\n",
       "      <td>1867722.0</td>\n",
       "      <td>9.437136e+05</td>\n",
       "      <td>2021226.0</td>\n",
       "      <td>0.0</td>\n",
       "      <td>0.5</td>\n",
       "      <td>-8.660254e-01</td>\n",
       "      <td>0.238673</td>\n",
       "      <td>0.971100</td>\n",
       "      <td>1</td>\n",
       "      <td>0.269797</td>\n",
       "      <td>0.962917</td>\n",
       "    </tr>\n",
       "    <tr>\n",
       "      <th>13105</th>\n",
       "      <td>0.000000</td>\n",
       "      <td>0.000115</td>\n",
       "      <td>94560.5625</td>\n",
       "      <td>41.457031</td>\n",
       "      <td>0.107376</td>\n",
       "      <td>4.276614</td>\n",
       "      <td>-1.685981</td>\n",
       "      <td>289.672363</td>\n",
       "      <td>6290867.0</td>\n",
       "      <td>2.019752e+06</td>\n",
       "      <td>6572616.0</td>\n",
       "      <td>0.0</td>\n",
       "      <td>-1.0</td>\n",
       "      <td>-1.836970e-16</td>\n",
       "      <td>0.478734</td>\n",
       "      <td>0.877960</td>\n",
       "      <td>2</td>\n",
       "      <td>0.519584</td>\n",
       "      <td>0.854419</td>\n",
       "    </tr>\n",
       "    <tr>\n",
       "      <th>7044</th>\n",
       "      <td>0.075386</td>\n",
       "      <td>0.000029</td>\n",
       "      <td>94675.1250</td>\n",
       "      <td>77.323059</td>\n",
       "      <td>0.832184</td>\n",
       "      <td>-4.048058</td>\n",
       "      <td>0.884130</td>\n",
       "      <td>288.686523</td>\n",
       "      <td>15644498.0</td>\n",
       "      <td>1.736405e+07</td>\n",
       "      <td>20426496.0</td>\n",
       "      <td>0.0</td>\n",
       "      <td>0.5</td>\n",
       "      <td>8.660254e-01</td>\n",
       "      <td>0.321270</td>\n",
       "      <td>0.946988</td>\n",
       "      <td>13</td>\n",
       "      <td>-0.398401</td>\n",
       "      <td>-0.917211</td>\n",
       "    </tr>\n",
       "    <tr>\n",
       "      <th>8693</th>\n",
       "      <td>0.000000</td>\n",
       "      <td>0.000000</td>\n",
       "      <td>94641.4375</td>\n",
       "      <td>33.168457</td>\n",
       "      <td>0.000000</td>\n",
       "      <td>0.127497</td>\n",
       "      <td>-0.781517</td>\n",
       "      <td>291.905762</td>\n",
       "      <td>15782709.0</td>\n",
       "      <td>6.227145e+06</td>\n",
       "      <td>16785888.0</td>\n",
       "      <td>0.0</td>\n",
       "      <td>1.0</td>\n",
       "      <td>6.123234e-17</td>\n",
       "      <td>0.478734</td>\n",
       "      <td>0.877960</td>\n",
       "      <td>6</td>\n",
       "      <td>0.997669</td>\n",
       "      <td>-0.068242</td>\n",
       "    </tr>\n",
       "  </tbody>\n",
       "</table>\n",
       "</div>"
      ],
      "text/plain": [
       "          VAR78     VAR79      VAR134     VAR157    VAR164    VAR165  \\\n",
       "10080  0.000269  0.000000  95509.8750  73.670883  0.003357  0.880408   \n",
       "9792   0.000397  0.000000  94333.8750  59.226471  0.018616  3.695747   \n",
       "13105  0.000000  0.000115  94560.5625  41.457031  0.107376  4.276614   \n",
       "7044   0.075386  0.000029  94675.1250  77.323059  0.832184 -4.048058   \n",
       "8693   0.000000  0.000000  94641.4375  33.168457  0.000000  0.127497   \n",
       "\n",
       "         VAR166      VAR167      VAR169        VAR175      VAR178  VAR228  \\\n",
       "10080 -1.313563  281.783691   1506249.0  1.049106e+06   1708261.0     0.0   \n",
       "9792  -1.695083  283.197754   1867722.0  9.437136e+05   2021226.0     0.0   \n",
       "13105 -1.685981  289.672363   6290867.0  2.019752e+06   6572616.0     0.0   \n",
       "7044   0.884130  288.686523  15644498.0  1.736405e+07  20426496.0     0.0   \n",
       "8693  -0.781517  291.905762  15782709.0  6.227145e+06  16785888.0     0.0   \n",
       "\n",
       "       month_sin     month_cos   day_sin   day_cos  hour  hour_sin  hour_cos  \n",
       "10080        0.5 -8.660254e-01  0.432776  0.901502     1  0.269797  0.962917  \n",
       "9792         0.5 -8.660254e-01  0.238673  0.971100     1  0.269797  0.962917  \n",
       "13105       -1.0 -1.836970e-16  0.478734  0.877960     2  0.519584  0.854419  \n",
       "7044         0.5  8.660254e-01  0.321270  0.946988    13 -0.398401 -0.917211  \n",
       "8693         1.0  6.123234e-17  0.478734  0.877960     6  0.997669 -0.068242  "
      ]
     },
     "execution_count": 26,
     "metadata": {},
     "output_type": "execute_result"
    }
   ],
   "source": [
    "X_train.head()"
   ]
  },
  {
   "cell_type": "code",
   "execution_count": 27,
   "metadata": {},
   "outputs": [
    {
     "data": {
      "text/html": [
       "<div>\n",
       "<style scoped>\n",
       "    .dataframe tbody tr th:only-of-type {\n",
       "        vertical-align: middle;\n",
       "    }\n",
       "\n",
       "    .dataframe tbody tr th {\n",
       "        vertical-align: top;\n",
       "    }\n",
       "\n",
       "    .dataframe thead th {\n",
       "        text-align: right;\n",
       "    }\n",
       "</style>\n",
       "<table border=\"1\" class=\"dataframe\">\n",
       "  <thead>\n",
       "    <tr style=\"text-align: right;\">\n",
       "      <th></th>\n",
       "      <th>VAR78</th>\n",
       "      <th>VAR79</th>\n",
       "      <th>VAR134</th>\n",
       "      <th>VAR157</th>\n",
       "      <th>VAR164</th>\n",
       "      <th>VAR165</th>\n",
       "      <th>VAR166</th>\n",
       "      <th>VAR167</th>\n",
       "      <th>VAR169</th>\n",
       "      <th>VAR175</th>\n",
       "      <th>VAR178</th>\n",
       "      <th>VAR228</th>\n",
       "      <th>month_sin</th>\n",
       "      <th>month_cos</th>\n",
       "      <th>day_sin</th>\n",
       "      <th>day_cos</th>\n",
       "      <th>hour</th>\n",
       "      <th>hour_sin</th>\n",
       "      <th>hour_cos</th>\n",
       "    </tr>\n",
       "  </thead>\n",
       "  <tbody>\n",
       "    <tr>\n",
       "      <th>15543</th>\n",
       "      <td>0.004456</td>\n",
       "      <td>0.000269</td>\n",
       "      <td>95264.1875</td>\n",
       "      <td>82.798676</td>\n",
       "      <td>0.197327</td>\n",
       "      <td>-1.955809</td>\n",
       "      <td>0.981257</td>\n",
       "      <td>284.140625</td>\n",
       "      <td>23502768.0</td>\n",
       "      <td>18170784.0</td>\n",
       "      <td>26044848.0</td>\n",
       "      <td>0.000000</td>\n",
       "      <td>0.5</td>\n",
       "      <td>0.866025</td>\n",
       "      <td>0.137279</td>\n",
       "      <td>0.990532</td>\n",
       "      <td>16</td>\n",
       "      <td>-0.942261</td>\n",
       "      <td>-0.334880</td>\n",
       "    </tr>\n",
       "    <tr>\n",
       "      <th>15841</th>\n",
       "      <td>0.004791</td>\n",
       "      <td>0.000151</td>\n",
       "      <td>93889.0000</td>\n",
       "      <td>43.080002</td>\n",
       "      <td>0.285556</td>\n",
       "      <td>1.442891</td>\n",
       "      <td>-0.948500</td>\n",
       "      <td>298.718506</td>\n",
       "      <td>5457367.0</td>\n",
       "      <td>2874461.0</td>\n",
       "      <td>6589267.0</td>\n",
       "      <td>0.000000</td>\n",
       "      <td>0.5</td>\n",
       "      <td>0.866025</td>\n",
       "      <td>0.353676</td>\n",
       "      <td>0.935368</td>\n",
       "      <td>2</td>\n",
       "      <td>0.519584</td>\n",
       "      <td>0.854419</td>\n",
       "    </tr>\n",
       "    <tr>\n",
       "      <th>15396</th>\n",
       "      <td>0.135162</td>\n",
       "      <td>0.096794</td>\n",
       "      <td>93777.9375</td>\n",
       "      <td>44.131424</td>\n",
       "      <td>0.946505</td>\n",
       "      <td>3.286168</td>\n",
       "      <td>-2.018308</td>\n",
       "      <td>292.993652</td>\n",
       "      <td>15447972.0</td>\n",
       "      <td>17594112.0</td>\n",
       "      <td>20695024.0</td>\n",
       "      <td>0.000000</td>\n",
       "      <td>0.5</td>\n",
       "      <td>0.866025</td>\n",
       "      <td>0.034422</td>\n",
       "      <td>0.999407</td>\n",
       "      <td>13</td>\n",
       "      <td>-0.398401</td>\n",
       "      <td>-0.917211</td>\n",
       "    </tr>\n",
       "    <tr>\n",
       "      <th>15915</th>\n",
       "      <td>0.669870</td>\n",
       "      <td>0.236113</td>\n",
       "      <td>93955.3125</td>\n",
       "      <td>92.488327</td>\n",
       "      <td>1.000000</td>\n",
       "      <td>2.936502</td>\n",
       "      <td>-4.393728</td>\n",
       "      <td>291.027832</td>\n",
       "      <td>4291167.0</td>\n",
       "      <td>5518969.0</td>\n",
       "      <td>8345551.0</td>\n",
       "      <td>0.004534</td>\n",
       "      <td>0.5</td>\n",
       "      <td>0.866025</td>\n",
       "      <td>0.401488</td>\n",
       "      <td>0.915864</td>\n",
       "      <td>4</td>\n",
       "      <td>0.887885</td>\n",
       "      <td>0.460065</td>\n",
       "    </tr>\n",
       "    <tr>\n",
       "      <th>15620</th>\n",
       "      <td>0.000000</td>\n",
       "      <td>0.000000</td>\n",
       "      <td>94816.3750</td>\n",
       "      <td>65.258621</td>\n",
       "      <td>0.000000</td>\n",
       "      <td>-1.032138</td>\n",
       "      <td>1.028440</td>\n",
       "      <td>292.670166</td>\n",
       "      <td>18147920.0</td>\n",
       "      <td>27508528.0</td>\n",
       "      <td>23037472.0</td>\n",
       "      <td>0.000000</td>\n",
       "      <td>0.5</td>\n",
       "      <td>0.866025</td>\n",
       "      <td>0.188227</td>\n",
       "      <td>0.982126</td>\n",
       "      <td>21</td>\n",
       "      <td>-0.519584</td>\n",
       "      <td>0.854419</td>\n",
       "    </tr>\n",
       "  </tbody>\n",
       "</table>\n",
       "</div>"
      ],
      "text/plain": [
       "          VAR78     VAR79      VAR134     VAR157    VAR164    VAR165  \\\n",
       "15543  0.004456  0.000269  95264.1875  82.798676  0.197327 -1.955809   \n",
       "15841  0.004791  0.000151  93889.0000  43.080002  0.285556  1.442891   \n",
       "15396  0.135162  0.096794  93777.9375  44.131424  0.946505  3.286168   \n",
       "15915  0.669870  0.236113  93955.3125  92.488327  1.000000  2.936502   \n",
       "15620  0.000000  0.000000  94816.3750  65.258621  0.000000 -1.032138   \n",
       "\n",
       "         VAR166      VAR167      VAR169      VAR175      VAR178    VAR228  \\\n",
       "15543  0.981257  284.140625  23502768.0  18170784.0  26044848.0  0.000000   \n",
       "15841 -0.948500  298.718506   5457367.0   2874461.0   6589267.0  0.000000   \n",
       "15396 -2.018308  292.993652  15447972.0  17594112.0  20695024.0  0.000000   \n",
       "15915 -4.393728  291.027832   4291167.0   5518969.0   8345551.0  0.004534   \n",
       "15620  1.028440  292.670166  18147920.0  27508528.0  23037472.0  0.000000   \n",
       "\n",
       "       month_sin  month_cos   day_sin   day_cos  hour  hour_sin  hour_cos  \n",
       "15543        0.5   0.866025  0.137279  0.990532    16 -0.942261 -0.334880  \n",
       "15841        0.5   0.866025  0.353676  0.935368     2  0.519584  0.854419  \n",
       "15396        0.5   0.866025  0.034422  0.999407    13 -0.398401 -0.917211  \n",
       "15915        0.5   0.866025  0.401488  0.915864     4  0.887885  0.460065  \n",
       "15620        0.5   0.866025  0.188227  0.982126    21 -0.519584  0.854419  "
      ]
     },
     "execution_count": 27,
     "metadata": {},
     "output_type": "execute_result"
    }
   ],
   "source": [
    "X_test.head()"
   ]
  },
  {
   "cell_type": "markdown",
   "metadata": {},
   "source": [
    "# 4. Modèles de Regression"
   ]
  },
  {
   "cell_type": "markdown",
   "metadata": {},
   "source": [
    "### A. Régression Linéaire"
   ]
  },
  {
   "cell_type": "markdown",
   "metadata": {},
   "source": [
    "Nous avons d'abord travaillé avec un modèle de Regression Linéaire sur notre jeu de 12 données. Il ne s'agit pas vraiment de précision, mais nous obtenons un score de prédicition de 75% par rapport à la valeur produite effective."
   ]
  },
  {
   "cell_type": "code",
   "execution_count": 28,
   "metadata": {},
   "outputs": [
    {
     "name": "stdout",
     "output_type": "stream",
     "text": [
      "Train score :  0.7222219789342638\n",
      "Test score : 0.7604717960568754\n"
     ]
    }
   ],
   "source": [
    "from sklearn.linear_model import LinearRegression\n",
    "\n",
    "reg = LinearRegression()\n",
    "reg.fit(X_train, y_train)\n",
    "\n",
    "train_score = reg.score(X_train, y_train)\n",
    "test_score = reg.score(X_test, y_test)\n",
    "\n",
    "print(\"Train score : \", train_score)\n",
    "print(\"Test score :\", test_score)"
   ]
  },
  {
   "cell_type": "markdown",
   "metadata": {},
   "source": [
    "### B. Random Forest Regressor"
   ]
  },
  {
   "cell_type": "markdown",
   "metadata": {},
   "source": [
    "Nous avons ensuite travaillé avec un second algorithme, le Random Forest Regression. Un Random Forest est constitué d'un certain nombre n_estimators d'arbres décisionnels, dans notre cas 30. Chaque arbre dispose d'une vision partielle des données et à partir d'une étude des possibilités, établit une prédiction. Finalement, la valeur finale prédite est l'estimation majoritaire de tous les arbres.\n",
    "Parmi les paramètres de ce modèle :\n",
    "\n",
    "* random_state : la graine utilisée par le générateur de nombres aléatoires, pour que le résultat de l'algorithme soit le même à chaque fois\n",
    "* max_depth : le nombre de variables que l'on va diviser (split) pour créer les branches de l'arbre\n",
    "* min_samples_leaf : \n",
    "* min_samples_split : \n",
    "* n_estimators : le nombre d'arbres que l'on souhaite générer\n",
    "\n",
    "Pour que cet algorithme soit le plus précis possible, il faut que les variables que l'on divise soient les plus optimales. Pour cela, on utilise l'algorithme de Grid Search qui va déterminer les paramètres idéaux."
   ]
  },
  {
   "cell_type": "code",
   "execution_count": 29,
   "metadata": {},
   "outputs": [
    {
     "name": "stdout",
     "output_type": "stream",
     "text": [
      "Best score :  0.8221474088376193\n",
      "Best params : {'max_depth': 3, 'min_samples_leaf': 7, 'min_samples_split': 2, 'n_estimators': 40}\n"
     ]
    }
   ],
   "source": [
    "from sklearn.ensemble import RandomForestRegressor\n",
    "from sklearn.model_selection import GridSearchCV\n",
    "\n",
    "params = {'min_samples_leaf':list(range(1,8,3)),'min_samples_split':list(range(2,11,2)),\n",
    "          'n_estimators':list(range(20,41,10)), 'max_depth':[2,3]}\n",
    "\n",
    "clf_rf2 = RandomForestRegressor(random_state=1)\n",
    "clf_gs = GridSearchCV(clf_rf2, params,cv=5)\n",
    "clf_gs.fit(X_train, y_train)\n",
    "print(\"Best score : \", clf_gs.best_score_)\n",
    "print(\"Best params :\", clf_gs.best_params_)"
   ]
  },
  {
   "cell_type": "code",
   "execution_count": 30,
   "metadata": {},
   "outputs": [
    {
     "name": "stdout",
     "output_type": "stream",
     "text": [
      "0.83195283668053\n",
      "0.8690109229163321\n"
     ]
    }
   ],
   "source": [
    "\n",
    "clf_r3 = RandomForestRegressor(random_state = 1, max_depth = 3, min_samples_leaf = 1, \n",
    "                               min_samples_split = 2, n_estimators = 30)\n",
    "clf_r3.fit(X_train, y_train)\n",
    "print(clf_r3.score(X_train, y_train))\n",
    "print(clf_r3.score(X_test, y_test))"
   ]
  },
  {
   "cell_type": "markdown",
   "metadata": {},
   "source": [
    "#### Prédictions sur 4 jours du mois de Mars 2014"
   ]
  },
  {
   "cell_type": "code",
   "execution_count": 31,
   "metadata": {},
   "outputs": [],
   "source": [
    "march = march.drop(col, axis=1)\n",
    "march_pred = march.drop(\"POWER\", axis=1)\n",
    "power_march_pred_reg = reg.predict(march_pred)\n",
    "power_march_pred_randomforest = clf_r3.predict(march_pred)"
   ]
  },
  {
   "cell_type": "code",
   "execution_count": 32,
   "metadata": {},
   "outputs": [
    {
     "data": {
      "image/png": "[encoded data removed]",
      "text/plain": [
       "<Figure size 432x288 with 1 Axes>"
      ]
     },
     "metadata": {
      "needs_background": "light"
     },
     "output_type": "display_data"
    }
   ],
   "source": [
    "fig, _ = plt.subplots()\n",
    "plt.plot(time_march,power_march, label=\"Actual Power\")\n",
    "plt.plot(time_march,power_march_pred_reg, \"r--\", label=\"Predicted Power Linear Reg\")\n",
    "plt.plot(time_march,power_march_pred_randomforest, \"g--\", label=\"Predicted Power forest\")\n",
    "plt.title(\"Solar Power Prediction\")\n",
    "plt.xlabel(\"Datetime\")\n",
    "plt.ylabel(\"Solar Power\")\n",
    "plt.gca().xaxis.set_major_locator(mdate.DayLocator())\n",
    "plt.legend()\n",
    "fig.autofmt_xdate()\n",
    "plt.show()\n"
   ]
  },
  {
   "cell_type": "markdown",
   "metadata": {},
   "source": [
    "### C. Random Forest Quantile Regressor"
   ]
  },
  {
   "cell_type": "code",
   "execution_count": 33,
   "metadata": {},
   "outputs": [
    {
     "name": "stderr",
     "output_type": "stream",
     "text": [
      "/home/tiago/anaconda3/envs/ppe/lib/python3.7/site-packages/sklearn/externals/six.py:31: DeprecationWarning: The module is deprecated in version 0.21 and will be removed in version 0.23 since we've dropped support for Python 2.7. Please rely on the official version of six (https://pypi.org/project/six/).\n",
      "  \"(https://pypi.org/project/six/).\", DeprecationWarning)\n"
     ]
    },
    {
     "data": {
      "text/plain": [
       "RandomForestQuantileRegressor(bootstrap=True, criterion='mse', max_depth=None,\n",
       "                              max_features='auto', max_leaf_nodes=None,\n",
       "                              min_samples_leaf=1, min_samples_split=10,\n",
       "                              min_weight_fraction_leaf=0.0, n_estimators=1000,\n",
       "                              n_jobs=1, oob_score=False, random_state=0,\n",
       "                              verbose=0, warm_start=False)"
      ]
     },
     "execution_count": 33,
     "metadata": {},
     "output_type": "execute_result"
    }
   ],
   "source": [
    "from skgarden import RandomForestQuantileRegressor\n",
    "\n",
    "rfqr = RandomForestQuantileRegressor(\n",
    "    random_state=0, min_samples_split=10, n_estimators=1000)\n",
    "\n",
    "rfqr.fit(X_train, y_train)"
   ]
  },
  {
   "cell_type": "code",
   "execution_count": 34,
   "metadata": {},
   "outputs": [
    {
     "name": "stdout",
     "output_type": "stream",
     "text": [
      "Train score :  0.9735483389603301\n",
      "Test score : 0.9564222482480492\n"
     ]
    }
   ],
   "source": [
    "train_score = rfqr.score(X_train, y_train)\n",
    "test_score = rfqr.score(X_test, y_test)\n",
    "\n",
    "print(\"Train score : \", train_score)\n",
    "print(\"Test score :\", test_score)"
   ]
  },
  {
   "cell_type": "markdown",
   "metadata": {},
   "source": [
    "#### Prédictions sur 4 jours du mois de Mars 2014"
   ]
  },
  {
   "cell_type": "code",
   "execution_count": 35,
   "metadata": {
    "scrolled": true
   },
   "outputs": [],
   "source": [
    "march_pred = march.drop(\"POWER\", axis=1)\n",
    "power_march_pred_quantrandomforest = rfqr.predict(march_pred)\n",
    "power_march_pred_randomforest = clf_r3.predict(march_pred)"
   ]
  },
  {
   "cell_type": "code",
   "execution_count": 36,
   "metadata": {},
   "outputs": [
    {
     "data": {
      "image/png": "[encoded data removed]",
      "text/plain": [
       "<Figure size 432x288 with 1 Axes>"
      ]
     },
     "metadata": {
      "needs_background": "light"
     },
     "output_type": "display_data"
    }
   ],
   "source": [
    "fig, _ = plt.subplots()\n",
    "plt.plot(time_march,power_march, label=\"Actual Power\")\n",
    "plt.plot(time_march,power_march_pred_quantrandomforest, \"r--\", label=\"Predicted Power Linear Reg\")\n",
    "plt.gca().xaxis.set_major_locator(mdate.DayLocator())\n",
    "plt.title(\"Solar Power Prediction\")\n",
    "plt.xlabel(\"Datetime\")\n",
    "plt.ylabel(\"Solar Power\")\n",
    "plt.legend()\n",
    "fig.autofmt_xdate()\n",
    "plt.show()"
   ]
  },
  {
   "cell_type": "markdown",
   "metadata": {},
   "source": [
    "#### Validation croisée du Random Forest Quantile Regressor "
   ]
  },
  {
   "cell_type": "code",
   "execution_count": 37,
   "metadata": {},
   "outputs": [],
   "source": [
    "X = pd.concat([X_train, X_test])\n",
    "y = pd.concat([y_train, y_test])"
   ]
  },
  {
   "cell_type": "code",
   "execution_count": 38,
   "metadata": {
    "scrolled": true
   },
   "outputs": [
    {
     "name": "stdout",
     "output_type": "stream",
     "text": [
      "[0.90684175 0.91654037 0.90322519 0.89087883 0.94195493]\n",
      "scores mean = 0.9118882150131642 scores std = 0.01713218538535058\n"
     ]
    }
   ],
   "source": [
    "from sklearn.model_selection import cross_val_score\n",
    "\n",
    "scores = cross_val_score(rfqr, X, y, cv=5)\n",
    "\n",
    "print (scores)\n",
    "print ('scores mean =', scores.mean(), 'scores std =', scores.std())"
   ]
  },
  {
   "cell_type": "markdown",
   "metadata": {},
   "source": [
    "# 5. Transformation du problème"
   ]
  },
  {
   "cell_type": "markdown",
   "metadata": {},
   "source": [
    "L’objectif était de transformer un algorithme de régression en un algorithme de classification multi-classes selon le modèle présenté dans le papier scientifique. Pour réaliser cette transformation, nous avons partitionné nos données afin d’obtenir **m** classes. "
   ]
  },
  {
   "cell_type": "markdown",
   "metadata": {},
   "source": [
    "Dans la fonction ci-dessous, on va utilisé un pas(step) afin de partitionné les données en  500 intervalles équivalents. "
   ]
  },
  {
   "cell_type": "code",
   "execution_count": 39,
   "metadata": {},
   "outputs": [],
   "source": [
    "m_cut_points = 500\n",
    "def split_by_bins(m, df_po):\n",
    "    step = 1/m\n",
    "    bins = list(np.arange(0,df_po.max(),step))\n",
    "    tmp = pd.cut(df_po,bins,include_lowest=True)\n",
    "    categories = tmp.cat.categories\n",
    "    tmp = tmp.cat.codes\n",
    "    tmp = np.where(tmp==-1, m, tmp) \n",
    "    return tmp, categories\n",
    "y_train, categ_train = split_by_bins(m_cut_points,df_2013_z1_shuffled[\"POWER\"])\n",
    "y_test, categ_test = split_by_bins(m_cut_points,df_test_shuffled[\"POWER\"])"
   ]
  },
  {
   "cell_type": "markdown",
   "metadata": {},
   "source": [
    "#### Visualisation des catégories"
   ]
  },
  {
   "cell_type": "code",
   "execution_count": 40,
   "metadata": {},
   "outputs": [
    {
     "data": {
      "text/plain": [
       "IntervalIndex([(-0.001, 0.002], (0.002, 0.004], (0.004, 0.006], (0.006, 0.008], (0.008, 0.01] ... (0.898, 0.9], (0.9, 0.902], (0.902, 0.904], (0.904, 0.906], (0.906, 0.908]],\n",
       "              closed='right',\n",
       "              dtype='interval[float64]')"
      ]
     },
     "execution_count": 40,
     "metadata": {},
     "output_type": "execute_result"
    }
   ],
   "source": [
    "categ_train"
   ]
  },
  {
   "cell_type": "markdown",
   "metadata": {},
   "source": [
    "#### Visualisation de la répartition des données"
   ]
  },
  {
   "cell_type": "code",
   "execution_count": 41,
   "metadata": {
    "scrolled": true
   },
   "outputs": [
    {
     "name": "stdout",
     "output_type": "stream",
     "text": [
      "Class=60, n=6 (0.097%)\n",
      "Class=383, n=10 (0.162%)\n",
      "Class=422, n=6 (0.097%)\n",
      "Class=0, n=1674 (27.122%)\n",
      "Class=132, n=10 (0.162%)\n",
      "Class=315, n=10 (0.162%)\n",
      "Class=114, n=11 (0.178%)\n",
      "Class=323, n=11 (0.178%)\n",
      "Class=307, n=11 (0.178%)\n",
      "Class=71, n=10 (0.162%)\n",
      "Class=12, n=38 (0.616%)\n",
      "Class=61, n=19 (0.308%)\n",
      "Class=213, n=6 (0.097%)\n",
      "Class=301, n=7 (0.113%)\n",
      "Class=251, n=4 (0.065%)\n",
      "Class=289, n=11 (0.178%)\n",
      "Class=9, n=53 (0.859%)\n",
      "Class=72, n=10 (0.162%)\n",
      "Class=397, n=6 (0.097%)\n",
      "Class=217, n=4 (0.065%)\n",
      "Class=1, n=110 (1.782%)\n",
      "Class=414, n=7 (0.113%)\n",
      "Class=2, n=64 (1.037%)\n",
      "Class=360, n=11 (0.178%)\n",
      "Class=373, n=4 (0.065%)\n",
      "Class=260, n=4 (0.065%)\n",
      "Class=91, n=14 (0.227%)\n",
      "Class=359, n=15 (0.243%)\n",
      "Class=37, n=19 (0.308%)\n",
      "Class=262, n=9 (0.146%)\n",
      "Class=70, n=13 (0.211%)\n",
      "Class=130, n=9 (0.146%)\n",
      "Class=186, n=11 (0.178%)\n",
      "Class=6, n=47 (0.762%)\n",
      "Class=264, n=9 (0.146%)\n",
      "Class=112, n=11 (0.178%)\n",
      "Class=349, n=8 (0.130%)\n",
      "Class=238, n=2 (0.032%)\n",
      "Class=5, n=38 (0.616%)\n",
      "Class=255, n=9 (0.146%)\n",
      "Class=269, n=8 (0.130%)\n",
      "Class=356, n=12 (0.194%)\n",
      "Class=401, n=13 (0.211%)\n",
      "Class=86, n=15 (0.243%)\n",
      "Class=73, n=6 (0.097%)\n",
      "Class=24, n=27 (0.437%)\n",
      "Class=111, n=7 (0.113%)\n",
      "Class=319, n=13 (0.211%)\n",
      "Class=150, n=1 (0.016%)\n",
      "Class=361, n=12 (0.194%)\n",
      "Class=221, n=6 (0.097%)\n",
      "Class=193, n=10 (0.162%)\n",
      "Class=14, n=38 (0.616%)\n",
      "Class=96, n=6 (0.097%)\n",
      "Class=16, n=29 (0.470%)\n",
      "Class=117, n=12 (0.194%)\n",
      "Class=232, n=15 (0.243%)\n",
      "Class=49, n=17 (0.275%)\n",
      "Class=285, n=6 (0.097%)\n",
      "Class=137, n=7 (0.113%)\n",
      "Class=57, n=16 (0.259%)\n",
      "Class=377, n=14 (0.227%)\n",
      "Class=400, n=9 (0.146%)\n",
      "Class=131, n=4 (0.065%)\n",
      "Class=151, n=5 (0.081%)\n",
      "Class=153, n=8 (0.130%)\n",
      "Class=105, n=9 (0.146%)\n",
      "Class=336, n=7 (0.113%)\n",
      "Class=245, n=10 (0.162%)\n",
      "Class=219, n=5 (0.081%)\n",
      "Class=128, n=9 (0.146%)\n",
      "Class=275, n=8 (0.130%)\n",
      "Class=121, n=10 (0.162%)\n",
      "Class=256, n=6 (0.097%)\n",
      "Class=169, n=7 (0.113%)\n",
      "Class=322, n=17 (0.275%)\n",
      "Class=189, n=6 (0.097%)\n",
      "Class=17, n=44 (0.713%)\n",
      "Class=358, n=13 (0.211%)\n",
      "Class=328, n=7 (0.113%)\n",
      "Class=177, n=4 (0.065%)\n",
      "Class=173, n=5 (0.081%)\n",
      "Class=274, n=4 (0.065%)\n",
      "Class=282, n=8 (0.130%)\n",
      "Class=59, n=9 (0.146%)\n",
      "Class=21, n=32 (0.518%)\n",
      "Class=8, n=34 (0.551%)\n",
      "Class=204, n=7 (0.113%)\n",
      "Class=118, n=11 (0.178%)\n",
      "Class=195, n=4 (0.065%)\n",
      "Class=351, n=10 (0.162%)\n",
      "Class=156, n=6 (0.097%)\n",
      "Class=297, n=12 (0.194%)\n",
      "Class=369, n=13 (0.211%)\n",
      "Class=222, n=7 (0.113%)\n",
      "Class=408, n=11 (0.178%)\n",
      "Class=396, n=12 (0.194%)\n",
      "Class=418, n=6 (0.097%)\n",
      "Class=203, n=3 (0.049%)\n",
      "Class=56, n=7 (0.113%)\n",
      "Class=233, n=9 (0.146%)\n",
      "Class=52, n=13 (0.211%)\n",
      "Class=63, n=7 (0.113%)\n",
      "Class=229, n=9 (0.146%)\n",
      "Class=35, n=17 (0.275%)\n",
      "Class=25, n=23 (0.373%)\n",
      "Class=350, n=9 (0.146%)\n",
      "Class=354, n=9 (0.146%)\n",
      "Class=4, n=42 (0.680%)\n",
      "Class=23, n=26 (0.421%)\n",
      "Class=22, n=25 (0.405%)\n",
      "Class=387, n=15 (0.243%)\n",
      "Class=420, n=8 (0.130%)\n",
      "Class=140, n=5 (0.081%)\n",
      "Class=318, n=15 (0.243%)\n",
      "Class=263, n=10 (0.162%)\n",
      "Class=145, n=3 (0.049%)\n",
      "Class=99, n=10 (0.162%)\n",
      "Class=13, n=34 (0.551%)\n",
      "Class=120, n=7 (0.113%)\n",
      "Class=157, n=6 (0.097%)\n",
      "Class=28, n=16 (0.259%)\n",
      "Class=89, n=17 (0.275%)\n",
      "Class=3, n=50 (0.810%)\n",
      "Class=144, n=16 (0.259%)\n",
      "Class=288, n=11 (0.178%)\n",
      "Class=209, n=12 (0.194%)\n",
      "Class=18, n=36 (0.583%)\n",
      "Class=15, n=41 (0.664%)\n",
      "Class=19, n=27 (0.437%)\n",
      "Class=404, n=9 (0.146%)\n",
      "Class=110, n=13 (0.211%)\n",
      "Class=398, n=5 (0.081%)\n",
      "Class=309, n=11 (0.178%)\n",
      "Class=167, n=4 (0.065%)\n",
      "Class=95, n=10 (0.162%)\n",
      "Class=257, n=6 (0.097%)\n",
      "Class=304, n=6 (0.097%)\n",
      "Class=135, n=8 (0.130%)\n",
      "Class=237, n=7 (0.113%)\n",
      "Class=206, n=4 (0.065%)\n",
      "Class=119, n=12 (0.194%)\n",
      "Class=278, n=3 (0.049%)\n",
      "Class=378, n=13 (0.211%)\n",
      "Class=344, n=8 (0.130%)\n",
      "Class=65, n=11 (0.178%)\n",
      "Class=97, n=12 (0.194%)\n",
      "Class=292, n=15 (0.243%)\n",
      "Class=82, n=9 (0.146%)\n",
      "Class=308, n=9 (0.146%)\n",
      "Class=39, n=13 (0.211%)\n",
      "Class=423, n=4 (0.065%)\n",
      "Class=211, n=9 (0.146%)\n",
      "Class=50, n=12 (0.194%)\n",
      "Class=148, n=6 (0.097%)\n",
      "Class=313, n=5 (0.081%)\n",
      "Class=10, n=36 (0.583%)\n",
      "Class=370, n=17 (0.275%)\n",
      "Class=106, n=8 (0.130%)\n",
      "Class=7, n=48 (0.778%)\n",
      "Class=88, n=14 (0.227%)\n",
      "Class=155, n=9 (0.146%)\n",
      "Class=40, n=14 (0.227%)\n",
      "Class=116, n=12 (0.194%)\n",
      "Class=374, n=9 (0.146%)\n",
      "Class=124, n=16 (0.259%)\n",
      "Class=81, n=15 (0.243%)\n",
      "Class=45, n=9 (0.146%)\n",
      "Class=395, n=8 (0.130%)\n",
      "Class=164, n=5 (0.081%)\n",
      "Class=380, n=9 (0.146%)\n",
      "Class=347, n=12 (0.194%)\n",
      "Class=261, n=5 (0.081%)\n",
      "Class=393, n=14 (0.227%)\n",
      "Class=107, n=10 (0.162%)\n",
      "Class=154, n=5 (0.081%)\n",
      "Class=252, n=4 (0.065%)\n",
      "Class=160, n=8 (0.130%)\n",
      "Class=366, n=11 (0.178%)\n",
      "Class=102, n=17 (0.275%)\n",
      "Class=44, n=25 (0.405%)\n",
      "Class=390, n=14 (0.227%)\n",
      "Class=165, n=9 (0.146%)\n",
      "Class=75, n=12 (0.194%)\n",
      "Class=332, n=8 (0.130%)\n",
      "Class=27, n=23 (0.373%)\n",
      "Class=48, n=12 (0.194%)\n",
      "Class=248, n=8 (0.130%)\n",
      "Class=277, n=6 (0.097%)\n",
      "Class=294, n=10 (0.162%)\n",
      "Class=38, n=17 (0.275%)\n",
      "Class=67, n=8 (0.130%)\n",
      "Class=451, n=1 (0.016%)\n",
      "Class=30, n=8 (0.130%)\n",
      "Class=41, n=14 (0.227%)\n",
      "Class=77, n=7 (0.113%)\n",
      "Class=170, n=4 (0.065%)\n",
      "Class=55, n=11 (0.178%)\n",
      "Class=363, n=8 (0.130%)\n",
      "Class=338, n=9 (0.146%)\n",
      "Class=345, n=12 (0.194%)\n",
      "Class=379, n=14 (0.227%)\n",
      "Class=391, n=10 (0.162%)\n",
      "Class=196, n=6 (0.097%)\n",
      "Class=192, n=4 (0.065%)\n",
      "Class=208, n=6 (0.097%)\n",
      "Class=329, n=8 (0.130%)\n",
      "Class=47, n=11 (0.178%)\n",
      "Class=104, n=11 (0.178%)\n",
      "Class=290, n=5 (0.081%)\n",
      "Class=29, n=18 (0.292%)\n",
      "Class=417, n=5 (0.081%)\n",
      "Class=241, n=6 (0.097%)\n",
      "Class=101, n=9 (0.146%)\n",
      "Class=134, n=5 (0.081%)\n",
      "Class=405, n=8 (0.130%)\n",
      "Class=243, n=8 (0.130%)\n",
      "Class=314, n=9 (0.146%)\n",
      "Class=334, n=12 (0.194%)\n",
      "Class=246, n=9 (0.146%)\n",
      "Class=310, n=13 (0.211%)\n",
      "Class=392, n=12 (0.194%)\n",
      "Class=53, n=10 (0.162%)\n",
      "Class=293, n=9 (0.146%)\n",
      "Class=352, n=7 (0.113%)\n",
      "Class=331, n=8 (0.130%)\n",
      "Class=425, n=4 (0.065%)\n",
      "Class=133, n=6 (0.097%)\n",
      "Class=216, n=7 (0.113%)\n",
      "Class=320, n=15 (0.243%)\n",
      "Class=385, n=14 (0.227%)\n",
      "Class=362, n=12 (0.194%)\n",
      "Class=224, n=2 (0.032%)\n",
      "Class=324, n=7 (0.113%)\n",
      "Class=303, n=12 (0.194%)\n",
      "Class=305, n=7 (0.113%)\n",
      "Class=32, n=14 (0.227%)\n",
      "Class=136, n=7 (0.113%)\n",
      "Class=201, n=5 (0.081%)\n",
      "Class=68, n=11 (0.178%)\n",
      "Class=372, n=16 (0.259%)\n",
      "Class=281, n=5 (0.081%)\n",
      "Class=230, n=8 (0.130%)\n",
      "Class=125, n=5 (0.081%)\n",
      "Class=205, n=5 (0.081%)\n",
      "Class=26, n=28 (0.454%)\n",
      "Class=46, n=14 (0.227%)\n",
      "Class=33, n=22 (0.356%)\n",
      "Class=365, n=12 (0.194%)\n",
      "Class=100, n=11 (0.178%)\n",
      "Class=236, n=6 (0.097%)\n",
      "Class=225, n=9 (0.146%)\n",
      "Class=36, n=16 (0.259%)\n",
      "Class=115, n=12 (0.194%)\n",
      "Class=343, n=6 (0.097%)\n",
      "Class=163, n=8 (0.130%)\n",
      "Class=271, n=7 (0.113%)\n",
      "Class=161, n=3 (0.049%)\n",
      "Class=218, n=10 (0.162%)\n",
      "Class=58, n=13 (0.211%)\n",
      "Class=188, n=8 (0.130%)\n",
      "Class=348, n=9 (0.146%)\n",
      "Class=227, n=10 (0.162%)\n",
      "Class=311, n=9 (0.146%)\n",
      "Class=187, n=8 (0.130%)\n",
      "Class=357, n=9 (0.146%)\n",
      "Class=407, n=4 (0.065%)\n",
      "Class=74, n=11 (0.178%)\n",
      "Class=34, n=15 (0.243%)\n",
      "Class=93, n=10 (0.162%)\n",
      "Class=51, n=8 (0.130%)\n",
      "Class=317, n=8 (0.130%)\n",
      "Class=333, n=6 (0.097%)\n",
      "Class=367, n=9 (0.146%)\n",
      "Class=141, n=6 (0.097%)\n",
      "Class=382, n=8 (0.130%)\n",
      "Class=42, n=13 (0.211%)\n",
      "Class=371, n=16 (0.259%)\n",
      "Class=321, n=12 (0.194%)\n",
      "Class=11, n=43 (0.697%)\n",
      "Class=103, n=9 (0.146%)\n",
      "Class=384, n=9 (0.146%)\n",
      "Class=272, n=8 (0.130%)\n",
      "Class=268, n=3 (0.049%)\n",
      "Class=296, n=10 (0.162%)\n",
      "Class=231, n=6 (0.097%)\n",
      "Class=394, n=9 (0.146%)\n",
      "Class=199, n=8 (0.130%)\n",
      "Class=181, n=5 (0.081%)\n",
      "Class=207, n=7 (0.113%)\n",
      "Class=368, n=10 (0.162%)\n",
      "Class=109, n=13 (0.211%)\n",
      "Class=291, n=5 (0.081%)\n",
      "Class=389, n=10 (0.162%)\n",
      "Class=172, n=1 (0.016%)\n",
      "Class=399, n=12 (0.194%)\n",
      "Class=386, n=9 (0.146%)\n",
      "Class=267, n=10 (0.162%)\n",
      "Class=376, n=11 (0.178%)\n",
      "Class=76, n=12 (0.194%)\n",
      "Class=228, n=11 (0.178%)\n",
      "Class=226, n=9 (0.146%)\n",
      "Class=171, n=3 (0.049%)\n",
      "Class=54, n=12 (0.194%)\n",
      "Class=43, n=18 (0.292%)\n",
      "Class=299, n=5 (0.081%)\n",
      "Class=247, n=6 (0.097%)\n",
      "Class=113, n=6 (0.097%)\n",
      "Class=298, n=10 (0.162%)\n",
      "Class=249, n=7 (0.113%)\n",
      "Class=178, n=6 (0.097%)\n",
      "Class=175, n=3 (0.049%)\n",
      "Class=79, n=10 (0.162%)\n",
      "Class=214, n=7 (0.113%)\n",
      "Class=416, n=5 (0.081%)\n",
      "Class=108, n=9 (0.146%)\n",
      "Class=388, n=15 (0.243%)\n",
      "Class=66, n=8 (0.130%)\n",
      "Class=353, n=5 (0.081%)\n",
      "Class=259, n=8 (0.130%)\n",
      "Class=139, n=7 (0.113%)\n",
      "Class=286, n=3 (0.049%)\n",
      "Class=430, n=2 (0.032%)\n",
      "Class=287, n=5 (0.081%)\n",
      "Class=406, n=8 (0.130%)\n",
      "Class=254, n=12 (0.194%)\n",
      "Class=375, n=10 (0.162%)\n",
      "Class=179, n=6 (0.097%)\n",
      "Class=403, n=7 (0.113%)\n",
      "Class=284, n=7 (0.113%)\n",
      "Class=87, n=9 (0.146%)\n",
      "Class=152, n=4 (0.065%)\n",
      "Class=158, n=5 (0.081%)\n",
      "Class=180, n=8 (0.130%)\n",
      "Class=402, n=5 (0.081%)\n",
      "Class=85, n=8 (0.130%)\n",
      "Class=235, n=11 (0.178%)\n",
      "Class=84, n=9 (0.146%)\n",
      "Class=149, n=13 (0.211%)\n",
      "Class=98, n=3 (0.049%)\n",
      "Class=197, n=3 (0.049%)\n",
      "Class=31, n=18 (0.292%)\n",
      "Class=90, n=8 (0.130%)\n",
      "Class=312, n=16 (0.259%)\n",
      "Class=159, n=2 (0.032%)\n",
      "Class=78, n=3 (0.049%)\n",
      "Class=442, n=1 (0.016%)\n",
      "Class=129, n=13 (0.211%)\n",
      "Class=244, n=9 (0.146%)\n",
      "Class=185, n=3 (0.049%)\n",
      "Class=92, n=10 (0.162%)\n",
      "Class=215, n=5 (0.081%)\n",
      "Class=20, n=25 (0.405%)\n",
      "Class=346, n=6 (0.097%)\n",
      "Class=127, n=8 (0.130%)\n",
      "Class=212, n=11 (0.178%)\n",
      "Class=413, n=5 (0.081%)\n",
      "Class=220, n=5 (0.081%)\n",
      "Class=123, n=7 (0.113%)\n",
      "Class=412, n=1 (0.016%)\n",
      "Class=198, n=7 (0.113%)\n",
      "Class=341, n=6 (0.097%)\n",
      "Class=445, n=3 (0.049%)\n",
      "Class=194, n=8 (0.130%)\n",
      "Class=202, n=5 (0.081%)\n",
      "Class=62, n=6 (0.097%)\n",
      "Class=138, n=6 (0.097%)\n",
      "Class=300, n=9 (0.146%)\n",
      "Class=355, n=9 (0.146%)\n",
      "Class=184, n=8 (0.130%)\n",
      "Class=330, n=7 (0.113%)\n",
      "Class=210, n=10 (0.162%)\n",
      "Class=364, n=12 (0.194%)\n",
      "Class=191, n=5 (0.081%)\n",
      "Class=410, n=10 (0.162%)\n",
      "Class=295, n=8 (0.130%)\n",
      "Class=240, n=6 (0.097%)\n",
      "Class=126, n=8 (0.130%)\n",
      "Class=325, n=6 (0.097%)\n",
      "Class=279, n=9 (0.146%)\n",
      "Class=182, n=5 (0.081%)\n",
      "Class=411, n=3 (0.049%)\n",
      "Class=276, n=6 (0.097%)\n",
      "Class=266, n=7 (0.113%)\n",
      "Class=340, n=7 (0.113%)\n",
      "Class=239, n=5 (0.081%)\n",
      "Class=426, n=5 (0.081%)\n",
      "Class=339, n=3 (0.049%)\n",
      "Class=94, n=5 (0.081%)\n",
      "Class=143, n=8 (0.130%)\n",
      "Class=250, n=7 (0.113%)\n",
      "Class=302, n=11 (0.178%)\n",
      "Class=176, n=5 (0.081%)\n",
      "Class=190, n=6 (0.097%)\n",
      "Class=122, n=8 (0.130%)\n",
      "Class=342, n=5 (0.081%)\n",
      "Class=381, n=9 (0.146%)\n",
      "Class=432, n=2 (0.032%)\n",
      "Class=265, n=9 (0.146%)\n",
      "Class=253, n=5 (0.081%)\n",
      "Class=327, n=10 (0.162%)\n",
      "Class=335, n=7 (0.113%)\n",
      "Class=409, n=5 (0.081%)\n",
      "Class=168, n=4 (0.065%)\n",
      "Class=83, n=8 (0.130%)\n",
      "Class=174, n=6 (0.097%)\n",
      "Class=147, n=4 (0.065%)\n",
      "Class=306, n=4 (0.065%)\n",
      "Class=415, n=4 (0.065%)\n",
      "Class=64, n=11 (0.178%)\n",
      "Class=316, n=7 (0.113%)\n",
      "Class=69, n=5 (0.081%)\n",
      "Class=436, n=1 (0.016%)\n",
      "Class=200, n=5 (0.081%)\n",
      "Class=437, n=2 (0.032%)\n",
      "Class=146, n=6 (0.097%)\n",
      "Class=223, n=6 (0.097%)\n",
      "Class=429, n=2 (0.032%)\n",
      "Class=431, n=2 (0.032%)\n",
      "Class=435, n=2 (0.032%)\n",
      "Class=273, n=4 (0.065%)\n",
      "Class=80, n=7 (0.113%)\n",
      "Class=280, n=4 (0.065%)\n",
      "Class=337, n=7 (0.113%)\n",
      "Class=438, n=1 (0.016%)\n",
      "Class=283, n=8 (0.130%)\n",
      "Class=166, n=2 (0.032%)\n",
      "Class=234, n=6 (0.097%)\n",
      "Class=183, n=4 (0.065%)\n",
      "Class=433, n=3 (0.049%)\n",
      "Class=142, n=8 (0.130%)\n",
      "Class=258, n=2 (0.032%)\n",
      "Class=427, n=3 (0.049%)\n",
      "Class=421, n=3 (0.049%)\n",
      "Class=424, n=4 (0.065%)\n",
      "Class=162, n=3 (0.049%)\n",
      "Class=326, n=6 (0.097%)\n",
      "Class=242, n=4 (0.065%)\n",
      "Class=419, n=2 (0.032%)\n",
      "Class=500, n=1 (0.016%)\n",
      "Class=270, n=1 (0.016%)\n",
      "Class=441, n=1 (0.016%)\n"
     ]
    },
    {
     "data": {
      "image/png": "[encoded data removed]",
      "text/plain": [
       "<Figure size 432x288 with 1 Axes>"
      ]
     },
     "metadata": {
      "needs_background": "light"
     },
     "output_type": "display_data"
    }
   ],
   "source": [
    "counter = Counter(y_train)\n",
    "for k,v in counter.items():\n",
    "    per = v / len(y_train) * 100\n",
    "    print('Class=%d, n=%d (%.3f%%)' % (k, v, per))\n",
    "plt.bar(counter.keys(), counter.values())\n",
    "plt.show()"
   ]
  },
  {
   "cell_type": "markdown",
   "metadata": {},
   "source": [
    "Malgrè notre sous-échantillonage, on remarque que la catégorie 0 correspondant à nos valeurs nulles **27%** du jeu de données."
   ]
  },
  {
   "cell_type": "markdown",
   "metadata": {},
   "source": [
    "# 6. Transformation de nos labels en catégories"
   ]
  },
  {
   "cell_type": "markdown",
   "metadata": {},
   "source": [
    "Vecteur de classes convertit en matrice (entiers de 0 à num_classes). "
   ]
  },
  {
   "cell_type": "code",
   "execution_count": 42,
   "metadata": {},
   "outputs": [
    {
     "name": "stdout",
     "output_type": "stream",
     "text": [
      "Train size X :  (6172, 19)\n",
      "Train size y :  (6172,)\n",
      "Test size X :  (744, 19)\n",
      "Test size y :  (744,)\n"
     ]
    }
   ],
   "source": [
    "y_train_cat = keras.utils.to_categorical(y_train, num_classes=m_cut_points+1)\n",
    "y_test_cat = keras.utils.to_categorical(y_test, num_classes=m_cut_points+1)\n",
    "print(\"Train size X : \", X_train.shape)\n",
    "print(\"Train size y : \", y_train.shape)\n",
    "print(\"Test size X : \", X_test.shape)\n",
    "print(\"Test size y : \", y_test.shape)"
   ]
  },
  {
   "cell_type": "code",
   "execution_count": 43,
   "metadata": {},
   "outputs": [
    {
     "data": {
      "text/plain": [
       "array([ 60, 383, 422,   0, 132], dtype=int16)"
      ]
     },
     "execution_count": 43,
     "metadata": {},
     "output_type": "execute_result"
    }
   ],
   "source": [
    "y_train[:5]"
   ]
  },
  {
   "cell_type": "code",
   "execution_count": 44,
   "metadata": {},
   "outputs": [
    {
     "data": {
      "text/plain": [
       "array([[0., 0., 0., ..., 0., 0., 0.],\n",
       "       [0., 0., 0., ..., 0., 0., 0.],\n",
       "       [0., 0., 0., ..., 0., 0., 0.],\n",
       "       [1., 0., 0., ..., 0., 0., 0.],\n",
       "       [0., 0., 0., ..., 0., 0., 0.]], dtype=float32)"
      ]
     },
     "execution_count": 44,
     "metadata": {},
     "output_type": "execute_result"
    }
   ],
   "source": [
    "y_train_cat[:5]"
   ]
  },
  {
   "cell_type": "markdown",
   "metadata": {},
   "source": [
    "# 7. Modèles de classification"
   ]
  },
  {
   "cell_type": "markdown",
   "metadata": {},
   "source": [
    "### A. Régression Logistique"
   ]
  },
  {
   "cell_type": "code",
   "execution_count": 45,
   "metadata": {},
   "outputs": [
    {
     "name": "stdout",
     "output_type": "stream",
     "text": [
      "Train score :  0.2712248865845755\n",
      "Test score : 0.396505376344086\n"
     ]
    }
   ],
   "source": [
    "from sklearn.linear_model import LogisticRegression\n",
    "from sklearn.pipeline import make_pipeline\n",
    "\n",
    "\n",
    "regl = LogisticRegression(C=50. / X_train.shape[0], penalty='l1', solver='saga', tol=0.1, multi_class='multinomial')\n",
    "\n",
    "regl.fit(X_train, y_train)\n",
    "train_score = regl.score(X_train, y_train)\n",
    "test_score = regl.score(X_test, y_test)\n",
    "\n",
    "print(\"Train score : \", train_score)\n",
    "print(\"Test score :\", test_score)"
   ]
  },
  {
   "cell_type": "markdown",
   "metadata": {},
   "source": [
    "### B. K-nearest neighbors"
   ]
  },
  {
   "cell_type": "code",
   "execution_count": 48,
   "metadata": {},
   "outputs": [],
   "source": [
    "from sklearn.neighbors import KNeighborsClassifier\n",
    "knn_classifier = KNeighborsClassifier()\n",
    "knn_classifier.fit(X_train, y_train)\n",
    "knn_predictions = knn_classifier.predict(X_train)"
   ]
  },
  {
   "cell_type": "code",
   "execution_count": 49,
   "metadata": {},
   "outputs": [
    {
     "name": "stdout",
     "output_type": "stream",
     "text": [
      "Train score :  0.411049902786779\n",
      "Test score : 0.3951612903225806\n"
     ]
    }
   ],
   "source": [
    "train_score = knn_classifier.score(X_train, y_train)\n",
    "test_score = knn_classifier.score(X_test, y_test)\n",
    "\n",
    "print(\"Train score : \", train_score)\n",
    "print(\"Test score :\", test_score)"
   ]
  },
  {
   "cell_type": "code",
   "execution_count": 67,
   "metadata": {},
   "outputs": [],
   "source": [
    "march_pred = march.drop(\"POWER\", axis=1)\n",
    "power_march_pred_regl = regl.predict(march_pred)\n",
    "power_march_pred_randomforest = clf_r3.predict(march_pred)\n",
    "power_march_pred_knn = knn_classifier.predict(march_pred)/m_cut_points"
   ]
  },
  {
   "cell_type": "code",
   "execution_count": 68,
   "metadata": {},
   "outputs": [
    {
     "data": {
      "image/png": "[encoded data removed]",
      "text/plain": [
       "<Figure size 432x288 with 1 Axes>"
      ]
     },
     "metadata": {
      "needs_background": "light"
     },
     "output_type": "display_data"
    }
   ],
   "source": [
    "fig, _ = plt.subplots()\n",
    "plt.plot(time_march,power_march, label=\"Actual Power\")\n",
    "plt.plot(time_march,power_march_pred_regl, \"r--\", label=\"Predicted Power Linear Reg\")\n",
    "plt.plot(time_march,power_march_pred_knn, \"g--\", label=\"Predicted Power KNN\")\n",
    "plt.gca().xaxis.set_major_locator(mdate.DayLocator())\n",
    "plt.title(\"Solar Power Prediction\")\n",
    "plt.xlabel(\"Datetime\")\n",
    "plt.ylabel(\"Solar Power\")\n",
    "plt.legend()\n",
    "fig.autofmt_xdate()\n",
    "plt.show()"
   ]
  },
  {
   "cell_type": "markdown",
   "metadata": {},
   "source": [
    "# 8. Graphique"
   ]
  },
  {
   "cell_type": "code",
   "execution_count": 50,
   "metadata": {},
   "outputs": [
    {
     "data": {
      "image/png": "[encoded data removed]",
      "text/plain": [
       "<Figure size 432x288 with 1 Axes>"
      ]
     },
     "metadata": {
      "needs_background": "light"
     },
     "output_type": "display_data"
    }
   ],
   "source": [
    "fig, _ = plt.subplots()\n",
    "plt.plot(time_march,power_march, label=\"Actual Power\")\n",
    "plt.plot(time_march,power_march_pred_reg, \"r--\", label=\"Predicted Power Linear Regression\")\n",
    "plt.plot(time_march,power_march_pred_randomforest, \"g--\", label=\"Predicted Power Random Forest\")\n",
    "plt.plot(time_march,power_march_pred_quantrandomforest, \"m--\", label=\"Predicted Power Quantile Random Forest\")\n",
    "plt.plot(time_march,power_march_pred_regl, \"c--\", label=\"Predicted Power Logistic Regression\")\n",
    "plt.title(\"Solar Power Prediction\")\n",
    "plt.xlabel(\"Datetime\")\n",
    "plt.ylabel(\"Solar Power\")\n",
    "plt.gca().xaxis.set_major_locator(mdate.DayLocator())\n",
    "plt.legend(title='Legend', bbox_to_anchor=(0.5, -0.5),fancybox=True, shadow=True, ncol=2, loc='upper center')\n",
    "fig.autofmt_xdate()\n",
    "plt.show()"
   ]
  },
  {
   "cell_type": "markdown",
   "metadata": {},
   "source": [
    "# 9. Modèle de Deep Learning"
   ]
  },
  {
   "cell_type": "markdown",
   "metadata": {},
   "source": [
    "### A. Architecture du réseau de neurones"
   ]
  },
  {
   "cell_type": "code",
   "execution_count": 51,
   "metadata": {},
   "outputs": [],
   "source": [
    "model = Sequential()\n",
    "model.add(keras.layers.Dense(100, activation=\"elu\",input_dim=X_train.shape[1]))\n",
    "model.add(Dropout(0.5))\n",
    "model.add(keras.layers.Dense(100, activation=\"elu\", name=\"layer3\"))\n",
    "model.add(Dropout(0.5))\n",
    "model.add(keras.layers.Dense(100, activation=\"elu\", name=\"layer4\"))\n",
    "model.add(Dropout(0.5))\n",
    "model.add(keras.layers.Dense(m_cut_points+1, activation='softmax', name=\"output_layer\"))"
   ]
  },
  {
   "cell_type": "code",
   "execution_count": 52,
   "metadata": {},
   "outputs": [],
   "source": [
    "model.compile(loss=keras.losses.BinaryCrossentropy(from_logits=True),\n",
    "              metrics=['accuracy'])"
   ]
  },
  {
   "cell_type": "code",
   "execution_count": 53,
   "metadata": {},
   "outputs": [
    {
     "name": "stdout",
     "output_type": "stream",
     "text": [
      "Model: \"sequential\"\n",
      "_________________________________________________________________\n",
      "Layer (type)                 Output Shape              Param #   \n",
      "=================================================================\n",
      "dense (Dense)                (None, 100)               2000      \n",
      "_________________________________________________________________\n",
      "dropout (Dropout)            (None, 100)               0         \n",
      "_________________________________________________________________\n",
      "layer3 (Dense)               (None, 100)               10100     \n",
      "_________________________________________________________________\n",
      "dropout_1 (Dropout)          (None, 100)               0         \n",
      "_________________________________________________________________\n",
      "layer4 (Dense)               (None, 100)               10100     \n",
      "_________________________________________________________________\n",
      "dropout_2 (Dropout)          (None, 100)               0         \n",
      "_________________________________________________________________\n",
      "output_layer (Dense)         (None, 501)               50601     \n",
      "=================================================================\n",
      "Total params: 72,801\n",
      "Trainable params: 72,801\n",
      "Non-trainable params: 0\n",
      "_________________________________________________________________\n"
     ]
    }
   ],
   "source": [
    "model.summary()"
   ]
  },
  {
   "cell_type": "markdown",
   "metadata": {},
   "source": [
    "### B. Entrainement du modèle"
   ]
  },
  {
   "cell_type": "code",
   "execution_count": 54,
   "metadata": {},
   "outputs": [
    {
     "name": "stdout",
     "output_type": "stream",
     "text": [
      "Epoch 1/10\n",
      "1235/1235 - 4s - loss: 8269.4570 - accuracy: 0.1351 - val_loss: 0.0123 - val_accuracy: 0.2648\n",
      "Epoch 2/10\n",
      "1235/1235 - 2s - loss: 21.6574 - accuracy: 0.2714 - val_loss: 0.0119 - val_accuracy: 0.2648\n",
      "Epoch 3/10\n",
      "1235/1235 - 2s - loss: 41.2368 - accuracy: 0.2698 - val_loss: 0.0119 - val_accuracy: 0.2648\n",
      "Epoch 4/10\n",
      "1235/1235 - 1s - loss: 63.5042 - accuracy: 0.2696 - val_loss: 0.0129 - val_accuracy: 0.2648\n",
      "Epoch 5/10\n",
      "1235/1235 - 1s - loss: 59.3148 - accuracy: 0.2690 - val_loss: 0.0134 - val_accuracy: 0.2648\n",
      "Epoch 6/10\n",
      "1235/1235 - 1s - loss: 40.1947 - accuracy: 0.2710 - val_loss: 0.0136 - val_accuracy: 0.2648\n",
      "Epoch 7/10\n",
      "1235/1235 - 1s - loss: 30.4830 - accuracy: 0.2706 - val_loss: 0.0123 - val_accuracy: 0.2648\n",
      "Epoch 8/10\n",
      "1235/1235 - 2s - loss: 28.0074 - accuracy: 0.2704 - val_loss: 0.0123 - val_accuracy: 0.2648\n",
      "Epoch 9/10\n",
      "1235/1235 - 1s - loss: 27.7906 - accuracy: 0.2708 - val_loss: 0.0123 - val_accuracy: 0.2648\n",
      "Epoch 10/10\n",
      "1235/1235 - 1s - loss: 33.4628 - accuracy: 0.2694 - val_loss: 0.0122 - val_accuracy: 0.2648\n"
     ]
    }
   ],
   "source": [
    "hist = model.fit(X_train, y_train_cat, batch_size = 4,verbose=2, validation_split=0.2, epochs=10)"
   ]
  },
  {
   "cell_type": "markdown",
   "metadata": {},
   "source": [
    "### C. Visualisaton de la Loss"
   ]
  },
  {
   "cell_type": "code",
   "execution_count": 55,
   "metadata": {},
   "outputs": [
    {
     "data": {
      "image/png": "[encoded data removed]",
      "text/plain": [
       "<Figure size 432x288 with 1 Axes>"
      ]
     },
     "metadata": {
      "needs_background": "light"
     },
     "output_type": "display_data"
    }
   ],
   "source": [
    "plt.plot(hist.history[\"loss\"])\n",
    "plt.title(\"model loss\")\n",
    "plt.ylabel(\"loss\")\n",
    "plt.xlabel(\"epoch\")\n",
    "plt.legend([\"train\", \"val\"], loc=\"upper left\")\n",
    "plt.show()"
   ]
  },
  {
   "cell_type": "code",
   "execution_count": 56,
   "metadata": {},
   "outputs": [
    {
     "name": "stdout",
     "output_type": "stream",
     "text": [
      "[[4.9001470e-01 2.5112037e-02 6.0564443e-03 ... 5.4911000e-04\n",
      "  4.8783509e-04 5.4167438e-04]\n",
      " [4.9001470e-01 2.5112037e-02 6.0564443e-03 ... 5.4911000e-04\n",
      "  4.8783509e-04 5.4167438e-04]\n",
      " [4.9001470e-01 2.5112037e-02 6.0564443e-03 ... 5.4911000e-04\n",
      "  4.8783509e-04 5.4167438e-04]\n",
      " ...\n",
      " [4.9001470e-01 2.5112037e-02 6.0564443e-03 ... 5.4911000e-04\n",
      "  4.8783509e-04 5.4167438e-04]\n",
      " [4.9001470e-01 2.5112046e-02 6.0564391e-03 ... 5.4911000e-04\n",
      "  4.8783509e-04 5.4167386e-04]\n",
      " [4.9001470e-01 2.5112046e-02 6.0564391e-03 ... 5.4911000e-04\n",
      "  4.8783503e-04 5.4167386e-04]]\n"
     ]
    }
   ],
   "source": [
    "predictions = model.predict(X_train)\n",
    "print(predictions[150:160])"
   ]
  }
 ],
 "metadata": {
  "kernelspec": {
   "display_name": "ppe",
   "language": "python",
   "name": "ppe"
  },
  "language_info": {
   "codemirror_mode": {
    "name": "ipython",
    "version": 3
   },
   "file_extension": ".py",
   "mimetype": "text/x-python",
   "name": "python",
   "nbconvert_exporter": "python",
   "pygments_lexer": "ipython3",
   "version": "3.7.9"
  }
 },
 "nbformat": 4,
 "nbformat_minor": 4
}
